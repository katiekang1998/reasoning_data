{
 "cells": [
  {
   "cell_type": "code",
   "execution_count": 46,
   "metadata": {},
   "outputs": [],
   "source": [
    "import numpy as np \n",
    "import matplotlib.pyplot as plt \n",
    "import json\n",
    "\n",
    "from datasets import load_dataset\n",
    "from collections import Counter\n",
    "from is_eq import * \n",
    "import tqdm"
   ]
  },
  {
   "cell_type": "code",
   "execution_count": 47,
   "metadata": {},
   "outputs": [],
   "source": [
    "dataset = load_dataset(\"gsm8k\", \"main\")\n",
    "train_questions = np.array(dataset[\"train\"][\"question\"])\n",
    "train_answers = np.array(dataset[\"train\"]['answer'])\n",
    "\n",
    "test_questions = np.array(dataset[\"test\"][\"question\"])\n",
    "test_answers = np.array(dataset[\"test\"]['answer'])\n"
   ]
  },
  {
   "cell_type": "code",
   "execution_count": 73,
   "metadata": {},
   "outputs": [],
   "source": [
    "def most_frequent(List):\n",
    "    occurence_count = Counter(List)\n",
    "    return occurence_count.most_common(1)[0][0]"
   ]
  },
  {
   "cell_type": "code",
   "execution_count": 74,
   "metadata": {},
   "outputs": [],
   "source": [
    "\n",
    "def extract_latex(text):\n",
    "    start = text.find(\"#### \") + len(\"#### \")\n",
    "    return text[start:].replace(\",\", \"\")\n",
    "\n",
    "def maj_correct(outputs , answer):\n",
    "    answer = extract_latex(answer)\n",
    "\n",
    "    output_answers = [extract_latex(output) for output in outputs]\n",
    "    \n",
    "    maj_answer = most_frequent(output_answers)\n",
    "    \n",
    "    eqiv = is_equiv(answer, maj_answer, verbose=False)\n",
    "\n",
    "    return eqiv"
   ]
  },
  {
   "cell_type": "code",
   "execution_count": 75,
   "metadata": {},
   "outputs": [],
   "source": [
    "def get_n_maj_acc(arr, n, num_samples=1):\n",
    "    o = []\n",
    "    for i in range(num_samples):\n",
    "        idxs = np.random.choice(arr.shape[-1], n, replace=False)\n",
    "        maj_correct_all = [maj_correct(arr[j, idxs], test_answers[j]) for j in range(arr.shape[0])]\n",
    "        # print(maj_correct_all)\n",
    "        # print(len(maj_correct_all))\n",
    "        # 1/0\n",
    "        o.append(np.mean(maj_correct_all))\n",
    "    return np.mean(o)"
   ]
  },
  {
   "cell_type": "code",
   "execution_count": null,
   "metadata": {},
   "outputs": [],
   "source": []
  },
  {
   "cell_type": "code",
   "execution_count": null,
   "metadata": {},
   "outputs": [],
   "source": []
  },
  {
   "cell_type": "code",
   "execution_count": null,
   "metadata": {},
   "outputs": [],
   "source": []
  },
  {
   "cell_type": "code",
   "execution_count": 8,
   "metadata": {},
   "outputs": [
    {
     "name": "stderr",
     "output_type": "stream",
     "text": [
      "100%|██████████| 50/50 [00:34<00:00,  1.43it/s]\n"
     ]
    }
   ],
   "source": [
    "X = np.load(\"ckpts/\"+\"gsm8k_orig_6epochs_full_lr2e-05_bs128\"+\"/checkpoint-348/test_answers50_seed2.npy\")\n",
    "\n",
    "majN_5 = []\n",
    "for n in tqdm.tqdm(range(1, 51)):\n",
    "    majN_5.append(get_n_maj_acc(X, n))\n"
   ]
  },
  {
   "cell_type": "code",
   "execution_count": 9,
   "metadata": {},
   "outputs": [
    {
     "name": "stderr",
     "output_type": "stream",
     "text": [
      "100%|██████████| 50/50 [00:27<00:00,  1.82it/s]\n"
     ]
    }
   ],
   "source": [
    "X = np.load(\"ckpts/\"+\"gsm8k_orig_6epochs_full_lr5e-07_bs128\"+\"/checkpoint-348/test_answers50_seed2.npy\")\n",
    "\n",
    "majN_7 = []\n",
    "for n in tqdm.tqdm(range(1, 51)):\n",
    "    majN_7.append(get_n_maj_acc(X, n))\n"
   ]
  },
  {
   "cell_type": "code",
   "execution_count": 18,
   "metadata": {},
   "outputs": [
    {
     "name": "stderr",
     "output_type": "stream",
     "text": [
      "100%|██████████| 50/50 [00:24<00:00,  2.03it/s]\n"
     ]
    }
   ],
   "source": [
    "X = np.load(\"ckpts/\"+\"gsm8k_orig_6epochs_full_lr5e-07_bs128\"+\"/checkpoint-58/test_answers50_seed2.npy\")\n",
    "\n",
    "majN_7_58 = []\n",
    "for n in tqdm.tqdm(range(1, 51)):\n",
    "    majN_7_58.append(get_n_maj_acc(X, n))\n"
   ]
  },
  {
   "cell_type": "code",
   "execution_count": 11,
   "metadata": {},
   "outputs": [
    {
     "name": "stderr",
     "output_type": "stream",
     "text": [
      "100%|██████████| 50/50 [00:29<00:00,  1.71it/s]\n"
     ]
    }
   ],
   "source": [
    "X = np.load(\"ckpts/\"+\"gsm8k_orig_6epochs_full_lr2e-05_bs128\"+\"/checkpoint-58/test_answers50_seed2.npy\")\n",
    "\n",
    "majN_5_58 = []\n",
    "for n in tqdm.tqdm(range(1, 51)):\n",
    "    majN_5_58.append(get_n_maj_acc(X, n))"
   ]
  },
  {
   "cell_type": "code",
   "execution_count": 14,
   "metadata": {},
   "outputs": [
    {
     "name": "stderr",
     "output_type": "stream",
     "text": [
      "100%|██████████| 50/50 [00:26<00:00,  1.91it/s]\n"
     ]
    }
   ],
   "source": [
    "X = np.load(\"ckpts/\"+\"gsm8k_orig_6epochs_full_lr2e-05_bs128\"+\"/checkpoint-116/test_answers50_seed2.npy\")\n",
    "\n",
    "majN_5_116 = []\n",
    "for n in tqdm.tqdm(range(1, 51)):\n",
    "    majN_5_116.append(get_n_maj_acc(X, n))"
   ]
  },
  {
   "cell_type": "code",
   "execution_count": 16,
   "metadata": {},
   "outputs": [
    {
     "name": "stderr",
     "output_type": "stream",
     "text": [
      "100%|██████████| 50/50 [00:23<00:00,  2.10it/s]\n"
     ]
    }
   ],
   "source": [
    "X = np.load(\"ckpts/\"+\"gsm8k_orig_6epochs_full_lr2e-05_bs128\"+\"/checkpoint-175/test_answers50_seed2.npy\")\n",
    "\n",
    "majN_5_175 = []\n",
    "for n in tqdm.tqdm(range(1, 51)):\n",
    "    majN_5_175.append(get_n_maj_acc(X, n))"
   ]
  },
  {
   "cell_type": "code",
   "execution_count": 19,
   "metadata": {},
   "outputs": [
    {
     "data": {
      "text/plain": [
       "<matplotlib.legend.Legend at 0x779f2302d9d0>"
      ]
     },
     "execution_count": 19,
     "metadata": {},
     "output_type": "execute_result"
    },
    {
     "data": {
      "image/png": "[encoded data removed]",
      "text/plain": [
       "<Figure size 640x480 with 1 Axes>"
      ]
     },
     "metadata": {},
     "output_type": "display_data"
    }
   ],
   "source": [
    "plt.plot(range(1, 51), np.mean(majN_5, axis=1), label=\"2e-5\")\n",
    "plt.fill_between(range(1, 51), np.mean(majN_5, axis=1) - np.std(majN_5, axis=1), np.mean(majN_5, axis=1) + np.std(majN_5, axis=1), alpha=0.3)\n",
    "\n",
    "\n",
    "plt.plot(range(1, 51), np.mean(majN_5_58, axis=1), label=\"2e-5 58\")\n",
    "plt.fill_between(range(1, 51), np.mean(majN_5_58, axis=1) - np.std(majN_5_58, axis=1), np.mean(majN_5_58, axis=1) + np.std(majN_5_58, axis=1), alpha=0.3)\n",
    "\n",
    "plt.plot(range(1, 51), np.mean(majN_5_116, axis=1), label=\"2e-5 116\")\n",
    "plt.fill_between(range(1, 51), np.mean(majN_5_116, axis=1) - np.std(majN_5_116, axis=1), np.mean(majN_5_116, axis=1) + np.std(majN_5_116, axis=1), alpha=0.3)\n",
    "\n",
    "plt.plot(range(1, 51), np.mean(majN_5_175, axis=1), label=\"2e-5 175\")\n",
    "plt.fill_between(range(1, 51), np.mean(majN_5_175, axis=1) - np.std(majN_5_175, axis=1), np.mean(majN_5_175, axis=1) + np.std(majN_5_175, axis=1), alpha=0.3)\n",
    "\n",
    "plt.plot(range(1, 51), np.mean(majN_7, axis=1), label=\"5e-7\")\n",
    "plt.fill_between(range(1, 51), np.mean(majN_7, axis=1) - np.std(majN_7, axis=1), np.mean(majN_7, axis=1) + np.std(majN_7, axis=1), alpha=0.3)\n",
    "\n",
    "\n",
    "plt.plot(range(1, 51), np.mean(majN_7_58, axis=1), label=\"5e-7 58\")\n",
    "plt.fill_between(range(1, 51), np.mean(majN_7_58, axis=1) - np.std(majN_7_58, axis=1), np.mean(majN_7_58, axis=1) + np.std(majN_7_58, axis=1), alpha=0.3)\n",
    "\n",
    "\n",
    "plt.legend()"
   ]
  },
  {
   "cell_type": "code",
   "execution_count": null,
   "metadata": {},
   "outputs": [],
   "source": [
    "# plot distributions over final answers for different training runs\n",
    "# look at diversity of final answers"
   ]
  },
  {
   "cell_type": "code",
   "execution_count": 27,
   "metadata": {},
   "outputs": [],
   "source": [
    "X5 = np.load(\"ckpts/\"+\"gsm8k_orig_6epochs_full_lr2e-05_bs128\"+\"/checkpoint-348/test_answers50_seed2.npy\")\n",
    "X7 = np.load(\"ckpts/\"+\"gsm8k_orig_6epochs_full_lr5e-07_bs128\"+\"/checkpoint-348/test_answers50_seed2.npy\")\n"
   ]
  },
  {
   "cell_type": "code",
   "execution_count": 65,
   "metadata": {},
   "outputs": [
    {
     "name": "stdout",
     "output_type": "stream",
     "text": [
      "15\n",
      "3.6 1\n",
      "24 3\n",
      "14.666 5\n",
      "7 1\n",
      "14.67 1\n",
      "7.34 1\n",
      "18 1\n",
      "65 1\n",
      "345 1\n",
      "15.67 1\n",
      "21.67 1\n",
      "16 2\n",
      "11 1\n",
      "1 1\n",
      "23 9\n",
      "13 2\n",
      "15.666 2\n",
      "14.66 1\n",
      "30/5 1\n",
      "15 3\n",
      "6 1\n",
      "22 1\n",
      "14 2\n",
      "20 1\n",
      "19 2\n",
      "0 1\n",
      "17.666 1\n",
      "7.33 1\n",
      "12 1\n"
     ]
    }
   ],
   "source": [
    "i =20\n",
    "\n",
    "\n",
    "print(extract_latex(test_answers[i]))\n",
    "\n",
    "answers = [extract_latex(sample) for sample in X5[i]]\n",
    "for answer in set(answers):\n",
    "    print(answer, answers.count(answer))"
   ]
  },
  {
   "cell_type": "code",
   "execution_count": 63,
   "metadata": {},
   "outputs": [
    {
     "name": "stdout",
     "output_type": "stream",
     "text": [
      "14.667 1\n",
      "759 1\n",
      "8.33 1\n",
      "14.67 2\n",
      "17.33 1\n",
      "12.34 1\n",
      "9 1\n",
      "15.6667 2\n",
      "14.7 1\n",
      "12.6666666666667 1\n",
      "15.6666666666667 1\n",
      "31.667 2\n",
      "15.67 5\n",
      "15.6 1\n",
      "19.28 1\n",
      "0.66 1\n",
      "16.667 1\n",
      "30.67 1\n",
      "-1 1\n",
      "1 1\n",
      "8.333 1\n",
      "119 1\n",
      "21 3\n",
      "31.67 1\n",
      "8 1\n",
      "8.3 1\n",
      "15 3\n",
      "6 1\n",
      "9.4 1\n",
      "14.6667 4\n",
      "11.666666666667 1\n",
      "28 1\n",
      "10.3333333333333 1\n",
      "12 1\n",
      "30.6666666666667 1\n",
      "22.6666666667 1\n"
     ]
    }
   ],
   "source": [
    "answers = [extract_latex(sample) for sample in X7[i]]\n",
    "\n",
    "for answer in set(answers):\n",
    "    print(answer, answers.count(answer))"
   ]
  },
  {
   "cell_type": "code",
   "execution_count": 67,
   "metadata": {},
   "outputs": [],
   "source": [
    "\n",
    "num_unique_answers5 = []\n",
    "num_unique_answers7 = []\n",
    "\n",
    "\n",
    "for i in range(1000):\n",
    "    num_unique_answers5.append(len(set([extract_latex(sample) for sample in X5[i]])))\n",
    "    num_unique_answers7.append(len(set([extract_latex(sample) for sample in X7[i]])))\n"
   ]
  },
  {
   "cell_type": "code",
   "execution_count": 72,
   "metadata": {},
   "outputs": [
    {
     "data": {
      "text/plain": [
       "(7.939987342559181, 9.069971058388225)"
      ]
     },
     "execution_count": 72,
     "metadata": {},
     "output_type": "execute_result"
    }
   ],
   "source": [
    "# np.mean(num_unique_answers5), np.mean(num_unique_answers7)\n",
    "np.std(num_unique_answers5), np.std(num_unique_answers7)"
   ]
  },
  {
   "cell_type": "code",
   "execution_count": null,
   "metadata": {},
   "outputs": [],
   "source": [
    "# look at where one get its right and the other gets it wrong\n",
    "# differences in samples?"
   ]
  }
 ],
 "metadata": {
  "kernelspec": {
   "display_name": "Python 3.10.12 64-bit",
   "language": "python",
   "name": "python3"
  },
  "language_info": {
   "codemirror_mode": {
    "name": "ipython",
    "version": 3
   },
   "file_extension": ".py",
   "mimetype": "text/x-python",
   "name": "python",
   "nbconvert_exporter": "python",
   "pygments_lexer": "ipython3",
   "version": "3.10.12"
  },
  "vscode": {
   "interpreter": {
    "hash": "916dbcbb3f70747c44a77c7bcd40155683ae19c65e1c03b4aa3499c5328201f1"
   }
  }
 },
 "nbformat": 4,
 "nbformat_minor": 2
}
