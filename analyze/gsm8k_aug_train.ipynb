{
 "cells": [
  {
   "cell_type": "code",
   "execution_count": 6,
   "metadata": {},
   "outputs": [],
   "source": [
    "import numpy as np \n",
    "import matplotlib.pyplot as plt\n",
    "import json"
   ]
  },
  {
   "cell_type": "code",
   "execution_count": 3,
   "metadata": {},
   "outputs": [
    {
     "data": {
      "text/plain": [
       "array([[ True,  True,  True,  True,  True],\n",
       "       [ True,  True,  True,  True,  True],\n",
       "       [ True,  True, False,  True,  True],\n",
       "       ...,\n",
       "       [ True,  True,  True,  True,  True],\n",
       "       [ True,  True,  True,  True,  True],\n",
       "       [False, False, False, False, False]])"
      ]
     },
     "execution_count": 3,
     "metadata": {},
     "output_type": "execute_result"
    }
   ],
   "source": [
    "np.load(\"../ckpts/gsm8k_aug_llama2_rand_20000/train_aug_answer_types5_seed3.npy\")==0"
   ]
  },
  {
   "cell_type": "code",
   "execution_count": 14,
   "metadata": {},
   "outputs": [],
   "source": [
    "with open('../data/GSM8k_aug/AugGSM8K_part1.jsonl', 'r') as json_file:\n",
    "    json_list = list(json_file)\n",
    "\n",
    "with open('../data/GSM8k_aug/AugGSM8K_part2.jsonl', 'r') as json_file:\n",
    "    json_list += list(json_file)\n",
    "\n",
    "train_questions = []\n",
    "train_answers = []\n",
    "for json_str in json_list:\n",
    "    result = json.loads(json_str)\n",
    "    train_questions.append(result[\"query\"])\n",
    "    train_answers.append(result[\"response\"])\n",
    "    \n",
    "train_questions = np.array(train_questions)\n",
    "train_answers = np.array(train_answers)"
   ]
  },
  {
   "cell_type": "code",
   "execution_count": 15,
   "metadata": {},
   "outputs": [],
   "source": [
    "NUM_TRAIN_POINTS=20000\n",
    "\n",
    "ratios_all_testeasy = []\n",
    "\n",
    "CKPT_NAME=f\"gsm8k_aug_llama2_rand_20000\"\n",
    "\n",
    "subsample_idxs = np.load(\"../ckpts/\"+CKPT_NAME+\"/subsample_idxs.npy\")\n",
    "\n",
    "\n",
    "\n",
    "train_correct = np.load(\"../ckpts/\"+CKPT_NAME+\"/train_aug_answer_types5_seed3.npy\")==0\n",
    "train_samples = np.load(\"../ckpts/\"+CKPT_NAME+\"/train_aug_answers5_seed3.npy\")\n",
    "# hard_subsample = np.where(np.isin(subsample_idxs, hard_train_idxs))[0]\n",
    "\n",
    "num_memorized_all = []\n",
    "num_correct_different_all = []\n",
    "num_incorrect_all = []\n",
    "\n",
    "for input_idx in range(len(subsample_idxs)):\n",
    "    num_memorized = 0\n",
    "    num_correct_different = 0\n",
    "    num_incorrect = 0\n",
    "    for sample_idx in range(5):\n",
    "        correct = train_correct[input_idx, sample_idx]\n",
    "        if correct:\n",
    "            if train_samples[input_idx][sample_idx].strip() == train_answers[subsample_idxs[input_idx]].strip():\n",
    "                num_memorized+=1\n",
    "            else:\n",
    "                num_correct_different+=1\n",
    "        else:\n",
    "            num_incorrect+=1 \n",
    "    num_memorized_all.append(num_memorized)\n",
    "    num_correct_different_all.append(num_correct_different)\n",
    "    num_incorrect_all.append(num_incorrect)\n",
    "\n",
    "num_memorized_all = np.array(num_memorized_all)\n",
    "num_correct_different_all = np.array(num_correct_different_all)\n",
    "num_incorrect_all = np.array(num_incorrect_all)"
   ]
  },
  {
   "cell_type": "code",
   "execution_count": 24,
   "metadata": {},
   "outputs": [
    {
     "name": "stderr",
     "output_type": "stream",
     "text": [
      "/tmp/ipykernel_3133/4258477956.py:1: RuntimeWarning: invalid value encountered in divide\n",
      "  plt.hist(num_memorized_all/(num_memorized_all+num_correct_different_all))\n"
     ]
    },
    {
     "data": {
      "text/plain": [
       "(array([11121.,     0.,  1317.,   149.,   812.,   963.,    77.,   108.,\n",
       "          632.,   960.]),\n",
       " array([0. , 0.1, 0.2, 0.3, 0.4, 0.5, 0.6, 0.7, 0.8, 0.9, 1. ]),\n",
       " <BarContainer object of 10 artists>)"
      ]
     },
     "execution_count": 24,
     "metadata": {},
     "output_type": "execute_result"
    },
    {
     "data": {
      "image/png": "[encoded data removed]",
      "text/plain": [
       "<Figure size 640x480 with 1 Axes>"
      ]
     },
     "metadata": {},
     "output_type": "display_data"
    }
   ],
   "source": [
    "plt.hist(num_memorized_all/(num_memorized_all+num_correct_different_all))"
   ]
  },
  {
   "cell_type": "code",
   "execution_count": 13,
   "metadata": {},
   "outputs": [
    {
     "data": {
      "text/plain": [
       "20000"
      ]
     },
     "execution_count": 13,
     "metadata": {},
     "output_type": "execute_result"
    }
   ],
   "source": [
    "len(train_samples)"
   ]
  },
  {
   "cell_type": "code",
   "execution_count": 4,
   "metadata": {},
   "outputs": [
    {
     "data": {
      "text/plain": [
       "array([[\"  First, let's calculate the total number of dolls in the big boxes and the small boxes.\\n\\nThere are 5 big boxes, and each big box contains 7 dolls, so the total number of dolls in the big boxes is 5 * 7 = 35 dolls.\\n\\nThere are 9 small boxes, and each small box contains 4 dolls, so the total number of dolls in the small boxes is 9 * 4 = 36 dolls.\\n\\nAdding these two amounts together, the total number of dolls is 35 + 36 = 71 dolls.\\n\\nJames wants to donate an additional 20 dolls, so the number of dolls he will donate is 20.\\nThe answer is: $20$\",\n",
       "        \"  First, let's calculate the total number of dolls in the big boxes. There are 5 big boxes, and each big box contains 7 dolls, so the total number of dolls in the big boxes is 5 * 7 = 35 dolls.\\nNext, let's calculate the total number of dolls in the small boxes. There are 9 small boxes, and each small box contains 4 dolls, so the total number of dolls in the small boxes is 9 * 4 = 36 dolls.\\nAdding these two amounts together, the total number of dolls is 35 + 36 = 71 dolls.\\nJames wants to donate an additional 20 dolls, so the number of dolls he will donate is 20.\\nThe answer is: $20$\",\n",
       "        \"  First, let's calculate how many dolls are in the big boxes and the small boxes.\\n\\nThere are 5 big boxes, and each big box contains 7 dolls, so the total number of dolls in the big boxes is 5 * 7 = 35 dolls.\\n\\nThere are 9 small boxes, and each small box contains 4 dolls, so the total number of dolls in the small boxes is 9 * 4 = 36 dolls.\\n\\nAdding these two amounts together, the total number of dolls is 35 + 36 = 71 dolls.\\n\\nJames will donate an additional 20 dolls, so the number of dolls he will donate is 20.\\nThe answer is: $20$\",\n",
       "        \"  First, let's calculate the total number of dolls in the big boxes. There are 5 big boxes, each containing 7 dolls, so the total number of dolls in the big boxes is 5 * 7 = 35 dolls.\\nNext, let's calculate the total number of dolls in the small boxes. There are 9 small boxes, each containing 4 dolls, so the total number of dolls in the small boxes is 9 * 4 = 36 dolls.\\nAdding these two totals together, the total number of dolls is 35 + 36 = 71 dolls.\\nJames wants to donate an additional 20 dolls, so the number of dolls he will donate is 20.\\nThe answer is: $20$\",\n",
       "        \"  First, let's calculate the total number of dolls in the big boxes and the small boxes.\\n\\nThere are 5 big boxes, each containing 7 dolls, so the total number of dolls in the big boxes is 5 * 7 = 35 dolls.\\n\\nThere are 9 small boxes, each containing 4 dolls, so the total number of dolls in the small boxes is 9 * 4 = 36 dolls.\\n\\nAdding these two totals together, the total number of dolls is 35 + 36 = 71 dolls.\\n\\nJames wants to donate an additional 20 dolls, so the number of dolls he will donate is 20.\\nThe answer is: $20$\"],\n",
       "       ['  The flashlight cost was 20% of the price of the hoodie, so it cost 0.20 * $80 = $16.\\nThe boots cost $110, but with a 10% discount, Celina only paid 90% of the original price, so she paid 0.90 * $110 = $99.\\nThe total cost of the hoodie, flashlight, and boots is $80 + $16 + $99 = $195.\\nCelina also needs to pay shipping fees, which are 10% of the total cost of the items, so the shipping fees cost 0.10 * $195 = $19.50.\\nTo find the total amount Celina spent, we add the cost of the items and the shipping fees, so $195 + $19.50 = $214.50.\\nThe answer is: $214.50$',\n",
       "        '  The flashlight cost was 20% of the price of the hoodie, so it cost 0.20 * $80 = $16.\\nThe boots were originally priced at $110, but Celina got a 10% discount, so she paid 90% of the original price. This means she paid 0.90 * $110 = $99 for the boots.\\nThe total cost of the hoodie, flashlight, and boots is $80 + $16 + $99 = $195.\\nCelina also needs to pay shipping fees, which are 10% of the total cost of the items. So the shipping fees cost 0.10 * $195 = $19.50.\\nTo find the total amount Celina spent, we add the cost of the items and the shipping fees, so $195 + $19.50 = $214.50.\\nThe answer is: $214.50$',\n",
       "        '  The flashlight cost was 20% of the price of the hoodie, so it cost 0.20 * $80 = $16.\\nThe boots were originally priced at $110, but Celina got a 10% discount, so she paid 90% of the original price. This means she paid 0.90 * $110 = $99 for the boots.\\nThe total cost of the hoodie, flashlight, and boots is $80 + $16 + $99 = $195.\\nCelina also needs to pay shipping fees, which are 10% of the total cost of the items. So the shipping fees are 0.10 * $195 = $19.50.\\nTo find out how much Celina spent in total, we add the shipping fees to the total cost of the items: $195 + $19.50 = $214.50.\\nThe answer is: $214.50$',\n",
       "        '  The flashlight cost was 20% of the price of the hoodie, so it cost 0.20 * $80 = $16.\\nThe boots were originally priced at $110, but Celina got a 10% discount, so she paid 90% of the original price. This means she paid 0.90 * $110 = $99.\\nThe total cost of the items before shipping fees is $80 + $16 + $99 = $195.\\nThe shipping fees are 10% of the total cost of the items, so they cost 0.10 * $195 = $19.50.\\nTo find the total amount Celina spent, we add the shipping fees to the total cost of the items, so $195 + $19.50 = $214.50.\\nThe answer is: $214.50$',\n",
       "        '  The flashlight cost was 20% of the price of the hoodie, so it cost 0.20 * $80 = $16.\\nThe boots were originally priced at $110, but Celina was able to buy them 10% cheaper, so she paid 90% of the original price, which is 0.90 * $110 = $99.\\nThe total cost of the hoodie, flashlight, and boots is $80 + $16 + $99 = $195.\\nCelina also needs to pay shipping fees, which are 10% of the total cost of the items, so the shipping fees cost 0.10 * $195 = $19.50.\\nTo find out how much Celina spent in total, we add the total cost of the items and the shipping fees, so it is $195 + $19.50 = $214.50.\\nThe answer is: $214.50$'],\n",
       "       [\"  Bob bought 2 show dogs for $250.00 each, so the total cost of the dogs is 2 * $250 = $500.\\nHe has 6 puppies, and if all of them are healthy, he can sell them for $350 each, so the total revenue from the puppies is 6 * $350 = $2100.\\nHowever, there is a 20% chance that a puppy will be sick, and if that happens, he has to provide medical treatment at a cost of $100 per puppy.\\nThe expected number of sick puppies is 6 * 0.20 = 1.2, but since we can't have a fraction of a puppy, we'll round that up to 2.\\nThe cost of medical treatment for 2 sick puppies is 2 * $100 = $200.\\nSo the actual revenue from the puppies is $2100 - $200 = $1900.\\nTo calculate the expected total profit, we need to subtract the cost of the dogs from the actual revenue.\\nThe expected total profit is $1900 - $500 = $1400.\\nThe answer is: $1400$\",\n",
       "        \"  Bob bought 2 show dogs for $250.00 each, so the total cost of the dogs is 2 * $250 = $500.\\nThe female dog just had a litter of 6 puppies, and if all the puppies are healthy, he can sell them for $350 each. So the total revenue from selling the puppies is 6 * $350 = $2100.\\nHowever, there is a 20% chance that a puppy will be sick, and if that happens, he has to provide medical treatment at a cost of $100 per puppy. The expected number of sick puppies is 0.20 * 6 = 1.2, but we can't have a fraction of a puppy, so we'll round that up to 2. The cost of medical treatment for 2 sick puppies is 2 * $100 = $200.\\nThe total revenue is $2100, and the total cost is $500 + $200 = $700.\\nTo find the expected total profit, we subtract the total cost from the total revenue: $2100 - $700 = $1400.\\nThe answer is: $1400$\",\n",
       "        '  Bob bought 2 show dogs for $250.00 each, so the total cost of the dogs is 2 * $250 = $500.\\nHe has 6 puppies from the litter, and if all are healthy, he can sell them for $350 each, so the total revenue from the puppies is 6 * $350 = $2100.\\nHowever, there is a 20% chance that a puppy will be sick, and if that happens, he has to provide medical treatment at a cost of $100 per puppy. The probability of a puppy being sick is 20% or 0.2, so the expected cost of medical treatment for the sick puppies is 0.2 * 6 * $100 = $120.\\nThe total revenue from the puppies, after accounting for the sick puppies, is $2100 - $120 = $2080.\\nTo find the expected total profit, we need to subtract the cost of the dogs from the total revenue. The expected total profit is $2080 - $500 = $1580.\\nThe answer is: $1580$',\n",
       "        \"  Bob bought 2 show dogs for $250.00 each, so the total cost of the dogs is 2 * $250 = $500.\\nThe female just had a litter of 6 puppies, and if all of them are healthy, he can sell them for $350 each. So the total revenue from selling the puppies is 6 * $350 = $2100.\\nHowever, if any of the puppies are sick, he has to provide medical treatment at a cost of $100 per puppy. There is a 20% chance that a puppy will be sick, so the expected number of sick puppies is 6 * 0.2 = 1.2, which rounds up to 2 (since we can't have a fraction of a puppy).\\nThe cost of medical treatment for 2 sick puppies is 2 * $100 = $200.\\nSo the total revenue after considering the sick puppies is $2100 - $200 = $1900.\\nTo calculate the expected total profit, we need to subtract the cost of the dogs from the total revenue: $1900 - $500 = $1400.\\nThe answer is: $1400$\",\n",
       "        \"  Bob bought 2 show dogs for $250 each, so the total cost of the dogs is 2 * $250 = $500.\\nHe has 6 puppies to breed, and if all of them are healthy, he can sell them for $350 each. So the total revenue from selling the puppies is 6 * $350 = $2100.\\nHowever, there is a 20% chance that a puppy will be sick, and the cost of medical treatment is $100 per puppy. The expected number of sick puppies is 6 * 0.20 = 1.2, but we can't have a fraction of a puppy, so we'll round this up to 2.\\nThe cost of medical treatment for 2 sick puppies is 2 * $100 = $200.\\nSo the total cost of the dogs, including the sick puppies, is $500 + $200 = $700.\\nTo find the expected total profit, we need to subtract the cost from the revenue: $2100 - $700 = $1400.\\nThe answer is: $1400$\"],\n",
       "       ...,\n",
       "       [\"  The pet store owner had 20 birds, and a third of them were sold. So, the number of birds sold is 20/3 = 6.67 (rounded to the nearest whole number). Since we can't have a fraction of a bird, we'll round down to 6. So, the number of birds left is 20 - 6 = 14.\\nThe pet store owner had 15 puppies, and 5 were adopted. So, the number of puppies left is 15 - 5 = 10.\\nThe pet store owner had 8 cats, and none were lost or adopted, so the number of cats left is still 8.\\nThe pet store owner had 20 spiders, and 10 went loose. So, the number of spiders left is 20 - 10 = 10.\\nTo find the total number of animals left, we add up the number of each type of animal left: 14 + 10 + 8 + 10 = 42.\\nThe answer is: $42$\",\n",
       "        \"  The pet store owner had 20 birds, and a third of them were sold, so 20/3 = 6.67. Since we can't have a fraction of a bird, we'll round down to 6 birds were sold.\\nThis means the pet store owner has 20 - 6 = 14 birds left.\\nThe pet store owner had 15 puppies, and 5 were adopted, so the pet store owner has 15 - 5 = 10 puppies left.\\nThe pet store owner had 8 cats, and none were lost or adopted, so the pet store owner still has 8 cats.\\nThe pet store owner had 20 spiders, and 10 went loose, so the pet store owner has 20 - 10 = 10 spiders left.\\nTo find the total number of animals left, we add up the number of each type of animal left: 14 + 10 + 8 + 10 = 42.\\nThe answer is: $42$\",\n",
       "        \"  The pet store owner had 20 birds, and a third of them were sold, so 20/3 = 6.67, but we can't have a fraction of a bird, so we'll round down to 6 birds were sold.\\nThis means the pet store owner has 20 - 6 = 14 birds left.\\nThe pet store owner had 15 puppies, and 5 were adopted, so the pet store owner has 15 - 5 = 10 puppies left.\\nThe pet store owner had 8 cats, and none were sold or adopted, so the pet store owner still has 8 cats.\\nThe pet store owner had 20 spiders, and 10 went loose, so the pet store owner has 20 - 10 = 10 spiders left.\\nTo find the total number of animals left, we add up the number of each type of animal left: 14 + 10 + 8 + 10 = 42.\\nThe pet store owner has 42 animals left.\\nThe answer is: $42$\",\n",
       "        \"  The pet store owner had 20 birds, and a third of them were sold. So, the number of birds sold is 20/3 = 6.67. Since we can't have a fraction of a bird, we'll round this down to 6. So, the number of birds left is 20 - 6 = 14.\\nThe pet store owner had 15 puppies, and 5 were adopted. So, the number of puppies left is 15 - 5 = 10.\\nThe pet store owner had 8 cats, and none were lost or adopted, so the number of cats left is still 8.\\nThe pet store owner had 20 spiders, and 10 went loose. So, the number of spiders left is 20 - 10 = 10.\\nTo find the total number of animals left, we add up the number of each type of animal left: 14 + 10 + 8 + 10 = 42.\\nThe answer is: $42$\",\n",
       "        \"  The pet store owner had 20 birds, and a third of them were sold. So, the number of birds sold is 20/3 = 6.67. But we can't have a fraction of a bird, so we'll round this down to 6. This means the pet store owner has 20 - 6 = 14 birds left.\\nThe pet store owner had 15 puppies, and 5 were adopted. So, the number of puppies left is 15 - 5 = 10.\\nThe pet store owner had 8 cats, and none were sold or adopted, so the number of cats left is still 8.\\nThe pet store owner had 20 spiders, and 10 went loose. So, the number of spiders left is 20 - 10 = 10.\\nTo find the total number of animals left, we add up the number of each type of animal left: 14 + 10 + 8 + 10 = 42.\\nThe answer is: $42$\"],\n",
       "       ['  Last year, Kyle picked a dozen roses, which is 12 roses. This year, he was only able to pick half the number of roses, so he picked 12/2 = 6 roses.\\nKyle wants to give his mother a bouquet with twice as many roses as last year, so he wants to give her 2 * 12 = 24 roses.\\nHe already has 6 roses, so he needs to buy an additional 24 - 6 = 18 roses.\\nThe grocery store sells one rose for $3, so to buy 18 roses, Kyle would need to spend 18 * $3 = $54.\\nThe grocery store also charges an additional $2 per bouquet for wrapping, so the total cost would be $54 + $2 = $56.\\nKyle has a coupon for $5 off any purchase over $20, and his total cost is $56, which is over $20.\\nHe can use his coupon and save $5.\\nThe final amount Kyle would have to spend is $56 - $5 = $51.\\nThe answer is: $51$',\n",
       "        '  Last year, Kyle picked a dozen roses, which is 12 roses.\\nThis year, he was only able to pick half the number of roses, so he picked 12/2 = 6 roses.\\nKyle wants to give his mother a bouquet with twice as many roses as last year, so he wants to give her 2 * 12 = 24 roses.\\nHe already has 6 roses, so he needs to buy an additional 24 - 6 = 18 roses.\\nIf the grocery store sells one rose for $3, then 18 roses would cost 18 * $3 = $54.\\nThe grocery store also charges an additional $2 per bouquet for wrapping, so the total cost would be $54 + $2 = $56.\\nKyle has a coupon for $5 off any purchase over $20, and his total cost is $56, which is over $20.\\nHe can use his coupon and save $5.\\nThe final amount Kyle would have to spend is $56 - $5 = $51.\\nThe answer is: $51$',\n",
       "        '  Last year, Kyle picked a dozen roses, which is 12 roses. This year, he was only able to pick half the number of roses, so he picked 12/2 = 6 roses.\\nKyle wants to give his mother a bouquet with twice as many roses as last year, so he wants to give her 2*12 = 24 roses.\\nHe already has 6 roses, so he needs to buy 24-6 = 18 roses from the grocery store.\\nThe grocery store sells one rose for $3, so 18 roses would cost 18*$3 = $54.\\nThe grocery store also charges an additional $2 per bouquet for wrapping, so the total cost would be $54 + $2 = $56.\\nKyle has a coupon for $5 off any purchase over $20, and his total cost is $56, which is over $20.\\nHe can use his coupon and save $5.\\nThe final amount Kyle would have to spend is $56 - $5 = $51.\\nThe answer is: $51$',\n",
       "        '  Last year, Kyle picked a dozen roses, which is 12 roses.\\nThis year, he was only able to pick half the number of roses, so he picked 12/2 = 6 roses.\\nKyle wants to give his mother a bouquet with twice as many roses as last year, so he wants to give her 2 * 12 = 24 roses.\\nHe already has 6 roses, so he needs to buy an additional 24 - 6 = 18 roses.\\nIf each rose costs $3, then he would need to spend 18 * $3 = $54 on roses.\\nThe grocery store charges an additional $2 per bouquet for wrapping, so the total cost would be $54 + $2 = $56.\\nKyle has a coupon for $5 off any purchase over $20, and his total cost is $56, which is over $20.\\nHe can use his coupon and save $5.\\nThe final amount Kyle would have to spend is $56 - $5 = $51.\\nThe answer is: $51$',\n",
       "        '  Last year, Kyle picked a dozen roses, which is 12 roses.\\nThis year, he was only able to pick half the number of roses, so he picked 12/2 = 6 roses.\\nKyle wants to give his mother a bouquet with twice as many roses as last year, so he wants to give her 2 * 12 = 24 roses.\\nHe already has 6 roses, so he needs to buy an additional 24 - 6 = 18 roses.\\nThe grocery store sells one rose for $3, so Kyle would need to spend 18 * $3 = $54 on the roses.\\nThe grocery store also charges an additional $2 per bouquet for wrapping, so the total cost would be $54 + $2 = $56.\\nKyle has a coupon for $5 off any purchase over $20, and his total cost is $56, which is over $20.\\nHe can use his coupon and save $5.\\nThe final amount Kyle would have to spend is $56 - $5 = $51.\\nThe answer is: $51$'],\n",
       "       ['  Alexis had a budget of $200 and she has $16 left, so her total purchase was $200 - $16 = $184.\\nShe spent $30 on a shirt, $46 on pants, $38 on a coat, $11 on socks, and $18 on a belt, so her total spending on these items is $30 + $46 + $38 + $11 + $18 = $143.\\nThe shoes were on sale for 25% off, so the original price of the shoes was $184 - ($184 * 0.25) = $184 - $46 = $138.\\nShe also used a coupon for an additional 10% off, so the price of the shoes after the coupon is $138 - ($138 * 0.10) = $138 - $13.8 = $124.2.\\nFinally, she had a store credit card that gave her an extra 5% off, so the final price of the shoes is $124.2 - ($124.2 * 0.05) = $124.2 - $6.21 = $117.99.\\nTherefore, Alexis paid $117.99 for the shoes. The answer is: $117.99$',\n",
       "        '  Alexis had a budget of $200 and she has $16 left, so her total purchase amount is $200 - $16 = $184.\\nShe spent $30 on a shirt, $46 on pants, $38 on a coat, $11 on socks, and $18 on a belt, so the total amount spent on these items is $30 + $46 + $38 + $11 + $18 = $143.\\nThe shoes were on sale for 25% off, so the original price of the shoes is $184 - ($184 * 0.25) = $184 - $46 = $138.\\nShe also used a coupon for an additional 10% off, so the price of the shoes after the coupon is $138 - ($138 * 0.10) = $138 - $13.80 = $124.20.\\nFinally, she had a store credit card that gave her an extra 5% off, so the final price of the shoes is $124.20 - ($124.20 * 0.05) = $124.20 - $6.21 = $117.99.\\nTherefore, Alexis paid $117.99 for the shoes. The answer is: $117.99$',\n",
       "        '  Alexis had a budget of $200 and spent $30 on a shirt, $46 on pants, $38 on a coat, $11 on socks, and $18 on a belt. The total amount spent on these items is $30 + $46 + $38 + $11 + $18 = $143.\\nShe also has $16 left from her budget, so the total amount she spent is $143 + the amount she paid for the shoes.\\nThe shoes were on sale for 25% off, so the original price of the shoes is $x. The sale price of the shoes is then $x - 0.25x = $0.75x.\\nShe also used a coupon for an additional 10% off, so the price of the shoes after the coupon is $0.75x - 0.10(0.75x) = $0.75x - $0.075x = $0.675x.\\nShe also had a store credit card that gave her an extra 5% off, so the final price of the shoes is $0.675x - 0.05(0.675x) = $0.675x - $0.03375x = $0.64125x.\\nWe know that the total amount she spent is $143 + the amount she paid for the shoes, so we can set up the equation $143 + $0.64125x = $200 - $16 (the amount she has left from her budget).\\nSimplifying the equation, we have $143 + $0.64125x = $184.\\nSubtracting $143 from both sides, we have $0.64125x = $41.\\nDividing both sides by $0.64125, we have x = $67.50.\\nSo, Alexis paid $67.50 for the shoes. The answer is: $67.50$',\n",
       "        \"  Alexis had a budget of $200 and she has $16 left, so the total amount she spent is $200 - $16 = $184.\\nShe spent $30 on a shirt, $46 on pants, $38 on a coat, $11 on socks, and $18 on a belt, so the total amount spent on these items is $30 + $46 + $38 + $11 + $18 = $143.\\nThe shoes were on sale for 25% off, so the price of the shoes is reduced by 25/100 * the original price. Let's call the original price of the shoes $x$. So the sale price of the shoes is $x - 0.25x = 0.75x$.\\nShe also used a coupon for an additional 10% off, so the price of the shoes after the coupon is $0.75x - 0.10(0.75x) = 0.75x - 0.075x = 0.675x$.\\nFinally, she had a store credit card that gave her an extra 5% off, so the final price of the shoes is $0.675x - 0.05(0.675x) = 0.675x - 0.03375x = 0.64125x$.\\nThe total amount she spent on all the items is $143 + 0.64125x$.\\nWe know that this total amount is equal to $184, so we can set up the equation $143 + 0.64125x = 184$.\\nSubtracting 143 from both sides gives $0.64125x = 41$.\\nDividing both sides by 0.64125 gives $x = \\\\frac{41}{0.64125} = 66$.\\nSo Alexis paid $66 for the shoes. The answer is: $66$\",\n",
       "        \"  Alexis had a budget of $200 and she has $16 left, so the total amount she spent is $200 - $16 = $184.\\nShe spent $30 on a shirt, $46 on pants, $38 on a coat, $11 on socks, and $18 on a belt, so the total amount spent on these items is $30 + $46 + $38 + $11 + $18 = $143.\\nThe shoes were on sale for 25% off, so the price after the discount is 75% of the original price. Let's call the original price of the shoes $x$. So the sale price of the shoes is 0.75x.\\nShe also used a coupon for an additional 10% off, so the price after the coupon is 90% of the sale price. The price after the coupon is 0.9 * 0.75x = 0.675x.\\nShe had a store credit card that gave her an extra 5% off, so the final price she paid for the shoes is 95% of the price after the coupon, which is 0.95 * 0.675x = 0.62125x.\\nWe know that the total amount she spent is $184, and the total amount spent on the other items is $143, so the amount she paid for the shoes is $184 - $143 = $41.\\nSetting up an equation, we have $62.125x = $41.\\nDividing both sides by $62.125, we find that x = $41 / $62.125 = $0.6836.\\nHowever, this doesn't make sense, as the price of shoes cannot be a fraction of a dollar. Let's go back and check our work.\\nWe know that the total amount she spent is $184, and the total amount spent on the other items is $143, so the amount she paid for the shoes is $184 - $143 = $41.\\nSetting up an equation,\"]],\n",
       "      dtype='<U2038')"
      ]
     },
     "execution_count": 4,
     "metadata": {},
     "output_type": "execute_result"
    }
   ],
   "source": [
    "np.load(\"../ckpts/gsm8k_aug_llama2_rand_20000/train_aug_answers5_seed3.npy\")"
   ]
  },
  {
   "cell_type": "code",
   "execution_count": null,
   "metadata": {},
   "outputs": [],
   "source": []
  }
 ],
 "metadata": {
  "kernelspec": {
   "display_name": "Python 3.9.19 ('trlx2')",
   "language": "python",
   "name": "python3"
  },
  "language_info": {
   "codemirror_mode": {
    "name": "ipython",
    "version": 3
   },
   "file_extension": ".py",
   "mimetype": "text/x-python",
   "name": "python",
   "nbconvert_exporter": "python",
   "pygments_lexer": "ipython3",
   "version": "3.9.19"
  },
  "orig_nbformat": 4,
  "vscode": {
   "interpreter": {
    "hash": "880a2784cc7455d0838240b106af40f2a25d56f4b3fd04cbca1f9dd75c2a460d"
   }
  }
 },
 "nbformat": 4,
 "nbformat_minor": 2
}
