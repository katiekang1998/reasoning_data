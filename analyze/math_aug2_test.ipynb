{
 "cells": [
  {
   "cell_type": "code",
   "execution_count": 1,
   "metadata": {},
   "outputs": [
    {
     "name": "stderr",
     "output_type": "stream",
     "text": [
      "/data/katie_kang/miniconda3/envs/trlx2/lib/python3.9/site-packages/tqdm/auto.py:21: TqdmWarning: IProgress not found. Please update jupyter and ipywidgets. See https://ipywidgets.readthedocs.io/en/stable/user_install.html\n",
      "  from .autonotebook import tqdm as notebook_tqdm\n"
     ]
    }
   ],
   "source": [
    "import numpy as np \n",
    "import matplotlib.pyplot as plt\n",
    "from datasets import load_dataset"
   ]
  },
  {
   "cell_type": "code",
   "execution_count": 2,
   "metadata": {},
   "outputs": [],
   "source": [
    "# test_answer_accs = np.load(\"/data/katie_kang/reasoning_data/data/MATH_aug/test_answer_types5.npy\")==0\n",
    "test_answer_accs = np.load(\"../data/MATH_aug/test_answer_types5.npy\")==0\n",
    "\n",
    "hard_idxs = np.where(test_answer_accs.sum(axis=-1)==0)[0]\n",
    "easy_idxs = np.where(test_answer_accs.sum(axis=-1)>2)[0]\n"
   ]
  },
  {
   "cell_type": "code",
   "execution_count": 7,
   "metadata": {},
   "outputs": [
    {
     "name": "stderr",
     "output_type": "stream",
     "text": [
      "/data/katie_kang/miniconda3/envs/trlx2/lib/python3.9/site-packages/datasets/load.py:1461: FutureWarning: The repository for hendrycks/competition_math contains custom code which must be executed to correctly load the dataset. You can inspect the repository content at https://hf.co/datasets/hendrycks/competition_math\n",
      "You can avoid this message in future by passing the argument `trust_remote_code=True`.\n",
      "Passing `trust_remote_code=True` will be mandatory to load this dataset from the next major release of `datasets`.\n",
      "  warnings.warn(\n"
     ]
    }
   ],
   "source": [
    "dataset = load_dataset(\"hendrycks/competition_math\", cache_dir=None)\n",
    "hard_idxs = np.where(np.array(dataset[\"test\"][\"level\"])=='Level 5')[0]\n"
   ]
  },
  {
   "cell_type": "code",
   "execution_count": 5,
   "metadata": {},
   "outputs": [
    {
     "name": "stdout",
     "output_type": "stream",
     "text": [
      "0.0429042904290429\n"
     ]
    }
   ],
   "source": [
    "CKPT_NAME=f\"math_aug3_easy{0:.2f}_medium0.00_hard{1:.2f}_total{20000}\"\n",
    "print((np.load(\"../ckpts/\"+CKPT_NAME+\"/test_answer_types1_seed2.npy\")==0).mean(axis=-1)[hard_idxs].mean())\n"
   ]
  },
  {
   "cell_type": "code",
   "execution_count": 22,
   "metadata": {},
   "outputs": [
    {
     "name": "stdout",
     "output_type": "stream",
     "text": [
      "math_aug2_easy1.00_hard0.00_total5000\n",
      "0.026591230551626596\n",
      "math_aug2_easy0.75_hard0.25_total5000\n",
      "0.025742574257425748\n",
      "math_aug2_easy0.50_hard0.50_total5000\n",
      "0.027911362564827912\n",
      "math_aug2_easy0.25_hard0.75_total5000\n",
      "0.032626119754832636\n",
      "math_aug2_easy0.00_hard1.00_total5000\n",
      "0.0314002828854314\n"
     ]
    }
   ],
   "source": [
    "accs_5000 = []\n",
    "NUM_TRAIN_POINTS=5000\n",
    "for HARD_RATIO in [0, 0.25, 0.5, 0.75, 1]:\n",
    "    EASY_RATIO=(1-HARD_RATIO)\n",
    "\n",
    "    CKPT_NAME=f\"math_aug2_easy{EASY_RATIO:.2f}_hard{HARD_RATIO:.2f}_total{NUM_TRAIN_POINTS}\"\n",
    "    print(CKPT_NAME)\n",
    "    print((np.load(\"../ckpts/\"+CKPT_NAME+\"/test_answer_types5_seed2.npy\")==0).mean(axis=-1)[hard_idxs].mean())\n",
    "    accs_5000.append((np.load(\"../ckpts/\"+CKPT_NAME+\"/test_answer_types5_seed2.npy\")==0).mean(axis=-1)[hard_idxs].mean())"
   ]
  },
  {
   "cell_type": "code",
   "execution_count": 11,
   "metadata": {},
   "outputs": [
    {
     "name": "stdout",
     "output_type": "stream",
     "text": [
      "math_aug2_easy1.00_hard0.00_total5000\n",
      "0.4414730878186968\n",
      "math_aug2_easy0.75_hard0.25_total5000\n",
      "0.4512181303116148\n",
      "math_aug2_easy0.50_hard0.50_total5000\n",
      "0.4705949008498584\n",
      "math_aug2_easy0.25_hard0.75_total5000\n",
      "0.4647025495750708\n",
      "math_aug2_easy0.00_hard1.00_total5000\n",
      "0.41382436260623234\n"
     ]
    }
   ],
   "source": [
    "accs_5000 = []\n",
    "NUM_TRAIN_POINTS=5000\n",
    "for HARD_RATIO in [0, 0.25, 0.5, 0.75, 1]:\n",
    "    EASY_RATIO=(1-HARD_RATIO)\n",
    "\n",
    "    CKPT_NAME=f\"math_aug2_easy{EASY_RATIO:.2f}_hard{HARD_RATIO:.2f}_total{NUM_TRAIN_POINTS}\"\n",
    "    print(CKPT_NAME)\n",
    "    print((np.load(\"../ckpts/\"+CKPT_NAME+\"/test_answer_types5_seed2.npy\")==0).mean(axis=-1)[easy_idxs].mean())\n",
    "    accs_5000.append((np.load(\"../ckpts/\"+CKPT_NAME+\"/test_answer_types5_seed2.npy\")==0).mean(axis=-1)[hard_idxs].mean())"
   ]
  },
  {
   "cell_type": "code",
   "execution_count": 42,
   "metadata": {},
   "outputs": [
    {
     "name": "stdout",
     "output_type": "stream",
     "text": [
      "math_aug2_easy1.00_hard0.00_total20000\n",
      "0.031117397454031116\n",
      "math_aug2_easy0.75_hard0.25_total20000\n",
      "0.03743517208863744\n",
      "math_aug2_easy0.50_hard0.50_total20000\n",
      "0.0446958981612447\n",
      "math_aug2_easy0.25_hard0.75_total20000\n",
      "0.04780763790664781\n",
      "math_aug2_easy0.00_hard1.00_total20000\n",
      "0.04941065535124941\n"
     ]
    }
   ],
   "source": [
    "accs_5000 = []\n",
    "NUM_TRAIN_POINTS=20000\n",
    "for HARD_RATIO in [0,0.25, 0.5, 0.75, 1]:\n",
    "    EASY_RATIO=(1-HARD_RATIO)\n",
    "\n",
    "    CKPT_NAME=f\"math_aug2_easy{EASY_RATIO:.2f}_hard{HARD_RATIO:.2f}_total{NUM_TRAIN_POINTS}\"\n",
    "    print(CKPT_NAME)\n",
    "    print((np.load(\"../ckpts/\"+CKPT_NAME+\"/test_answer_types5_seed2.npy\")==0).mean(axis=-1)[hard_idxs].mean())\n",
    "    accs_5000.append((np.load(\"../ckpts/\"+CKPT_NAME+\"/test_answer_types5_seed2.npy\")==0).mean(axis=-1)[hard_idxs].mean())"
   ]
  },
  {
   "cell_type": "code",
   "execution_count": 8,
   "metadata": {},
   "outputs": [
    {
     "name": "stdout",
     "output_type": "stream",
     "text": [
      "math_aug2_easy0.25_hard0.75_total20000_epochs2\n",
      "0.08006182380216384\n",
      "math_aug2_easy0.00_hard1.00_total20000_epochs2\n",
      "0.07727975270479136\n"
     ]
    }
   ],
   "source": [
    "accs_5000 = []\n",
    "NUM_TRAIN_POINTS=20000\n",
    "for HARD_RATIO in [0.75, 1]:\n",
    "    EASY_RATIO=(1-HARD_RATIO)\n",
    "\n",
    "    CKPT_NAME=f\"math_aug2_easy{EASY_RATIO:.2f}_hard{HARD_RATIO:.2f}_total{NUM_TRAIN_POINTS}_epochs2\"\n",
    "    print(CKPT_NAME)\n",
    "    print((np.load(\"ckpts/\"+CKPT_NAME+\"/test_answer_types5_seed2.npy\")==0).mean(axis=-1)[hard_idxs].mean())\n",
    "    accs_5000.append((np.load(\"ckpts/\"+CKPT_NAME+\"/test_answer_types5_seed2.npy\")==0).mean(axis=-1)[hard_idxs].mean())"
   ]
  },
  {
   "cell_type": "code",
   "execution_count": 9,
   "metadata": {},
   "outputs": [
    {
     "name": "stdout",
     "output_type": "stream",
     "text": [
      "math_aug2_easy0.25_hard0.75_total20000_epochs2\n",
      "0.5126345609065156\n",
      "math_aug2_easy0.00_hard1.00_total20000_epochs2\n",
      "0.4979036827195467\n"
     ]
    }
   ],
   "source": [
    "accs_5000 = []\n",
    "NUM_TRAIN_POINTS=20000\n",
    "for HARD_RATIO in [0.75, 1]:\n",
    "    EASY_RATIO=(1-HARD_RATIO)\n",
    "\n",
    "    CKPT_NAME=f\"math_aug2_easy{EASY_RATIO:.2f}_hard{HARD_RATIO:.2f}_total{NUM_TRAIN_POINTS}_epochs2\"\n",
    "    print(CKPT_NAME)\n",
    "    print((np.load(\"ckpts/\"+CKPT_NAME+\"/test_answer_types5_seed2.npy\")==0).mean(axis=-1)[easy_idxs].mean())\n"
   ]
  },
  {
   "cell_type": "code",
   "execution_count": 46,
   "metadata": {},
   "outputs": [
    {
     "name": "stdout",
     "output_type": "stream",
     "text": [
      "math_aug2_easy0.00_hard1.00_total20000_epochs5\n",
      "0.10293663060278208\n"
     ]
    }
   ],
   "source": [
    "accs_5000 = []\n",
    "NUM_TRAIN_POINTS=20000\n",
    "for HARD_RATIO in [1]:\n",
    "    EASY_RATIO=(1-HARD_RATIO)\n",
    "\n",
    "    CKPT_NAME=f\"math_aug2_easy{EASY_RATIO:.2f}_hard{HARD_RATIO:.2f}_total{NUM_TRAIN_POINTS}_epochs5\"\n",
    "    print(CKPT_NAME)\n",
    "    print((np.load(\"../ckpts/\"+CKPT_NAME+\"/test_answer_types1_seed2.npy\")==0).mean(axis=-1)[hard_idxs].mean())\n"
   ]
  },
  {
   "cell_type": "code",
   "execution_count": 47,
   "metadata": {},
   "outputs": [
    {
     "name": "stdout",
     "output_type": "stream",
     "text": [
      "math_aug2_easy0.00_hard1.00_total20000_epochs5\n",
      "0.5722379603399433\n"
     ]
    }
   ],
   "source": [
    "accs_5000 = []\n",
    "NUM_TRAIN_POINTS=20000\n",
    "for HARD_RATIO in [1]:\n",
    "    EASY_RATIO=(1-HARD_RATIO)\n",
    "\n",
    "    CKPT_NAME=f\"math_aug2_easy{EASY_RATIO:.2f}_hard{HARD_RATIO:.2f}_total{NUM_TRAIN_POINTS}_epochs5\"\n",
    "    print(CKPT_NAME)\n",
    "    print((np.load(\"../ckpts/\"+CKPT_NAME+\"/test_answer_types1_seed2.npy\")==0).mean(axis=-1)[easy_idxs].mean())\n"
   ]
  },
  {
   "cell_type": "code",
   "execution_count": 10,
   "metadata": {},
   "outputs": [
    {
     "name": "stdout",
     "output_type": "stream",
     "text": [
      "math_aug2_easy1.00_hard0.00_total20000\n",
      "0.5607932011331446\n",
      "math_aug2_easy0.75_hard0.25_total20000\n",
      "0.6047592067988669\n",
      "math_aug2_easy0.50_hard0.50_total20000\n",
      "0.6203966005665722\n",
      "math_aug2_easy0.25_hard0.75_total20000\n",
      "0.6156373937677053\n",
      "math_aug2_easy0.00_hard1.00_total20000\n",
      "0.5720113314447592\n"
     ]
    }
   ],
   "source": [
    "accs_5000 = []\n",
    "NUM_TRAIN_POINTS=20000\n",
    "for HARD_RATIO in [0,0.25, 0.5, 0.75, 1]:\n",
    "    EASY_RATIO=(1-HARD_RATIO)\n",
    "\n",
    "    CKPT_NAME=f\"math_aug2_easy{EASY_RATIO:.2f}_hard{HARD_RATIO:.2f}_total{NUM_TRAIN_POINTS}\"\n",
    "    print(CKPT_NAME)\n",
    "    print((np.load(\"../ckpts/\"+CKPT_NAME+\"/test_answer_types5_seed2.npy\")==0).mean(axis=-1)[easy_idxs].mean())\n",
    "    accs_5000.append((np.load(\"../ckpts/\"+CKPT_NAME+\"/test_answer_types5_seed2.npy\")==0).mean(axis=-1)[easy_idxs].mean())"
   ]
  },
  {
   "cell_type": "code",
   "execution_count": 2,
   "metadata": {},
   "outputs": [
    {
     "name": "stdout",
     "output_type": "stream",
     "text": [
      "math_aug2_easy1.00_hard0.00_total20000\n",
      "0.24588000000000002\n",
      "math_aug2_easy0.75_hard0.25_total20000\n",
      "0.27296000000000004\n",
      "math_aug2_easy0.50_hard0.50_total20000\n",
      "0.28092\n",
      "math_aug2_easy0.25_hard0.75_total20000\n",
      "0.285\n",
      "math_aug2_easy0.00_hard1.00_total20000\n",
      "0.26832\n"
     ]
    }
   ],
   "source": [
    "accs_5000 = []\n",
    "NUM_TRAIN_POINTS=20000\n",
    "for HARD_RATIO in [0,0.25, 0.5, 0.75, 1]:\n",
    "    EASY_RATIO=(1-HARD_RATIO)\n",
    "\n",
    "    CKPT_NAME=f\"math_aug2_easy{EASY_RATIO:.2f}_hard{HARD_RATIO:.2f}_total{NUM_TRAIN_POINTS}\"\n",
    "    print(CKPT_NAME)\n",
    "    print((np.load(\"../ckpts/\"+CKPT_NAME+\"/test_answer_types5_seed2.npy\")==0).mean(axis=-1).mean())\n",
    "    accs_5000.append((np.load(\"../ckpts/\"+CKPT_NAME+\"/test_answer_types5_seed2.npy\")==0).mean(axis=-1).mean())"
   ]
  },
  {
   "cell_type": "code",
   "execution_count": 7,
   "metadata": {},
   "outputs": [
    {
     "data": {
      "text/plain": [
       "Text(0, 0.5, 'test accs')"
      ]
     },
     "execution_count": 7,
     "metadata": {},
     "output_type": "execute_result"
    },
    {
     "data": {
      "image/png": "[encoded data removed]",
      "text/plain": [
       "<Figure size 640x480 with 1 Axes>"
      ]
     },
     "metadata": {},
     "output_type": "display_data"
    }
   ],
   "source": [
    "plt.plot([0.3762, 0.2624, 0.2018, 0.1916, 0.266 ], accs_5000, \"o-\")\n",
    "\n",
    "plt.xlabel(\"percent memorized\")\n",
    "plt.ylabel(\"test accs\")"
   ]
  },
  {
   "cell_type": "code",
   "execution_count": 30,
   "metadata": {},
   "outputs": [
    {
     "name": "stdout",
     "output_type": "stream",
     "text": [
      "math_aug2_easy1.00_hard0.00_total40000\n",
      "0.7314732142857142\n",
      "math_aug2_easy0.50_hard0.50_total40000\n",
      "0.8276785714285714\n",
      "math_aug2_easy0.00_hard1.00_total40000\n",
      "0.7274553571428571\n"
     ]
    }
   ],
   "source": [
    "accs_5000 = []\n",
    "NUM_TRAIN_POINTS=40000\n",
    "for HARD_RATIO in [0, 0.5, 1]:\n",
    "    EASY_RATIO=(1-HARD_RATIO)\n",
    "\n",
    "    CKPT_NAME=f\"math_aug2_easy{EASY_RATIO:.2f}_hard{HARD_RATIO:.2f}_total{NUM_TRAIN_POINTS}\"\n",
    "    print(CKPT_NAME)\n",
    "    print((np.load(\"../ckpts/\"+CKPT_NAME+\"/test_answer_types5_seed2.npy\")==0).mean(axis=-1)[hard_idxs].mean())\n",
    "    # accs_5000.append((np.load(\"../ckpts/\"+CKPT_NAME+\"/test_answer_types5_seed2.npy\")==0).mean(axis=-1)[easy_idxs].mean())\n",
    "# for HARD_RATIO in [0.5, 1]:\n",
    "#     EASY_RATIO=(1-HARD_RATIO)\n",
    "\n",
    "#     CKPT_NAME=f\"math_aug2_easy{EASY_RATIO:.2f}_hard{HARD_RATIO:.2f}_total{NUM_TRAIN_POINTS}\"\n",
    "#     print(CKPT_NAME)\n",
    "#     print((np.load(\"../ckpts/\"+CKPT_NAME+\"/test_answer_types1_seed2.npy\")==0).mean(axis=-1)[hard_idxs].mean())"
   ]
  },
  {
   "cell_type": "code",
   "execution_count": null,
   "metadata": {},
   "outputs": [],
   "source": []
  }
 ],
 "metadata": {
  "kernelspec": {
   "display_name": "Python 3.9.19 ('trlx2')",
   "language": "python",
   "name": "python3"
  },
  "language_info": {
   "codemirror_mode": {
    "name": "ipython",
    "version": 3
   },
   "file_extension": ".py",
   "mimetype": "text/x-python",
   "name": "python",
   "nbconvert_exporter": "python",
   "pygments_lexer": "ipython3",
   "version": "3.9.19"
  },
  "orig_nbformat": 4,
  "vscode": {
   "interpreter": {
    "hash": "880a2784cc7455d0838240b106af40f2a25d56f4b3fd04cbca1f9dd75c2a460d"
   }
  }
 },
 "nbformat": 4,
 "nbformat_minor": 2
}
