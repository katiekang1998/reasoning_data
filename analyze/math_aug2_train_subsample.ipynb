{
 "cells": [
  {
   "cell_type": "code",
   "execution_count": 19,
   "metadata": {},
   "outputs": [],
   "source": [
    "import numpy as np \n",
    "import matplotlib.pyplot as plt\n",
    "import json"
   ]
  },
  {
   "cell_type": "code",
   "execution_count": 9,
   "metadata": {},
   "outputs": [
    {
     "data": {
      "text/plain": [
       "0.28648"
      ]
     },
     "execution_count": 9,
     "metadata": {},
     "output_type": "execute_result"
    }
   ],
   "source": [
    "(np.load(\"ckpts/math_aug2_easy0.42_hard0.58_total20000/test_answer_types5_seed2.npy\")==0).mean()"
   ]
  },
  {
   "cell_type": "code",
   "execution_count": 8,
   "metadata": {},
   "outputs": [
    {
     "data": {
      "text/plain": [
       "0.17928"
      ]
     },
     "execution_count": 8,
     "metadata": {},
     "output_type": "execute_result"
    }
   ],
   "source": [
    "(np.load(\"ckpts/math_aug2_unmemorized_total15533/test_answer_types5_seed3.npy\")==0).mean()"
   ]
  },
  {
   "cell_type": "code",
   "execution_count": 12,
   "metadata": {},
   "outputs": [
    {
     "data": {
      "text/plain": [
       "0.24624"
      ]
     },
     "execution_count": 12,
     "metadata": {},
     "output_type": "execute_result"
    }
   ],
   "source": [
    "\n",
    "(np.load(\"ckpts/y_math_aug_easy0.25_medium0.25_hard0.50_total10000/test_answer_types5_seed2.npy\")==0).mean()"
   ]
  },
  {
   "cell_type": "code",
   "execution_count": 20,
   "metadata": {},
   "outputs": [],
   "source": [
    "with open('data/MATH_aug/AugMATH_part1.jsonl', 'r') as json_file:\n",
    "    json_list = list(json_file)\n",
    "\n",
    "with open('data/MATH_aug/AugMATH_part2.jsonl', 'r') as json_file:\n",
    "    json_list += list(json_file)\n",
    "\n",
    "train_questions = []\n",
    "train_answers = []\n",
    "for json_str in json_list:\n",
    "    result = json.loads(json_str)\n",
    "    train_questions.append(result[\"query\"])\n",
    "    train_answers.append(result[\"response\"])\n",
    "    \n",
    "train_questions = np.array(train_questions)\n",
    "train_answers = np.array(train_answers)"
   ]
  },
  {
   "cell_type": "code",
   "execution_count": 21,
   "metadata": {},
   "outputs": [],
   "source": [
    "NUM_TRAIN_POINTS=20000\n",
    "\n",
    "ratios_all_testhard = []\n",
    "\n",
    "for EASY_RATIO in [1., 0.75, 0.5, 0.25,0.]:\n",
    "    HARD_RATIO=(1-EASY_RATIO)\n",
    "\n",
    "\n",
    "    CKPT_NAME=f\"math_aug2_easy{EASY_RATIO:.2f}_hard{HARD_RATIO:.2f}_total{NUM_TRAIN_POINTS}\"\n",
    "\n",
    "    subsample_idxs = np.load(\"ckpts/\"+CKPT_NAME+\"/subsample_idxs.npy\")[:5000]\n",
    "\n",
    "\n",
    "    ratios = []\n",
    "    for checkpoint_strs in [\"2000\", \"4000\", \"6000\", \"8000\"]:\n",
    "\n",
    "        train_correct = np.load(\"ckpts/\"+CKPT_NAME+\"/checkpoint-\"+checkpoint_strs+\"/train_aug_subsample_answer_types5_seed2.npy\")==0\n",
    "        train_samples = np.load(\"ckpts/\"+CKPT_NAME+\"/checkpoint-\"+checkpoint_strs+\"/train_aug_subsample_answers5_seed2.npy\")\n",
    "        # hard_subsample = np.where(np.isin(subsample_idxs, hard_idxs))[0]\n",
    "        # easy_subsample = np.where(np.isin(subsample_idxs, easy_idxs))[0]\n",
    "\n",
    "\n",
    "\n",
    "        num_memorized_all = []\n",
    "        num_correct_different_all = []\n",
    "        num_incorrect_all = []\n",
    "\n",
    "        for input_idx in range(len(train_correct)):\n",
    "            num_memorized = 0\n",
    "            num_correct_different = 0\n",
    "            num_incorrect = 0\n",
    "            for sample_idx in range(5):\n",
    "                correct = train_correct[input_idx, sample_idx]\n",
    "                if correct:\n",
    "                    if train_samples[input_idx][sample_idx].strip() == train_answers[subsample_idxs[input_idx]].strip():\n",
    "                        num_memorized+=1\n",
    "                    else:\n",
    "                        num_correct_different+=1\n",
    "                else:\n",
    "                    num_incorrect+=1 \n",
    "            num_memorized_all.append(num_memorized)\n",
    "            num_correct_different_all.append(num_correct_different)\n",
    "            num_incorrect_all.append(num_incorrect)\n",
    "\n",
    "        num_memorized_all = np.array(num_memorized_all)\n",
    "        num_correct_different_all = np.array(num_correct_different_all)\n",
    "        num_incorrect_all = np.array(num_incorrect_all)\n",
    "        \n",
    "        ratios.append([(num_memorized_all==5).mean(),  (num_incorrect_all>0).mean()])\n",
    "    ratios_all_testhard.append(ratios)\n",
    "ratios_all_testhard= np.array(ratios_all_testhard)\n",
    "        # ratios_all_testeasy"
   ]
  },
  {
   "cell_type": "code",
   "execution_count": 22,
   "metadata": {},
   "outputs": [
    {
     "data": {
      "text/plain": [
       "(5000, 5)"
      ]
     },
     "execution_count": 22,
     "metadata": {},
     "output_type": "execute_result"
    }
   ],
   "source": [
    "train_correct.shape"
   ]
  },
  {
   "cell_type": "code",
   "execution_count": 56,
   "metadata": {},
   "outputs": [],
   "source": [
    "NUM_TRAIN_POINTS=20000\n",
    "\n",
    "ratios_all_testhard2 = []\n",
    "\n",
    "\n",
    "CKPT_NAME=f\"math_aug2_unmemorized_total15533\"\n",
    "\n",
    "subsample_idxs = np.load(\"ckpts/\"+CKPT_NAME+\"/subsample_idxs.npy\")\n",
    "\n",
    "\n",
    "ratios = []\n",
    "\n",
    "\n",
    "train_correct = []\n",
    "train_samples = []\n",
    "for seed in [0, 1, 2]:\n",
    "    train_correct_seed = np.load(\"ckpts/\"+CKPT_NAME+f\"/train_aug_answer_types1_seed{seed}.npy\")==0\n",
    "    train_samples_seed = np.load(\"ckpts/\"+CKPT_NAME+f\"/train_aug_answers1_seed{seed}.npy\")\n",
    "    train_correct.append(train_correct_seed)\n",
    "    train_samples.append(train_samples_seed)\n",
    "\n",
    "train_correct = np.array(train_correct)\n",
    "train_samples = np.array(train_samples)\n",
    "\n",
    "train_correct = np.transpose(train_correct, (1, 0, 2)).squeeze()\n",
    "train_samples = np.transpose(train_samples, (1, 0, 2)).squeeze()\n",
    "# hard_subsample = np.where(np.isin(subsample_idxs, hard_idxs))[0]\n",
    "# easy_subsample = np.where(np.isin(subsample_idxs, easy_idxs))[0]\n",
    "\n",
    "\n",
    "\n",
    "num_memorized_all = []\n",
    "num_correct_different_all = []\n",
    "num_incorrect_all = []\n",
    "\n",
    "for input_idx in range(len(train_correct)):\n",
    "    num_memorized = 0\n",
    "    num_correct_different = 0\n",
    "    num_incorrect = 0\n",
    "    for sample_idx in range(3):\n",
    "        correct = train_correct[input_idx, sample_idx]\n",
    "        if correct:\n",
    "            if train_samples[input_idx][sample_idx].strip() == train_answers[subsample_idxs[input_idx]].strip():\n",
    "                num_memorized+=1\n",
    "            else:\n",
    "                num_correct_different+=1\n",
    "        else:\n",
    "            num_incorrect+=1 \n",
    "    num_memorized_all.append(num_memorized)\n",
    "    num_correct_different_all.append(num_correct_different)\n",
    "    num_incorrect_all.append(num_incorrect)\n",
    "\n",
    "num_memorized_all = np.array(num_memorized_all)\n",
    "num_correct_different_all = np.array(num_correct_different_all)\n",
    "num_incorrect_all = np.array(num_incorrect_all)\n",
    "    "
   ]
  },
  {
   "cell_type": "code",
   "execution_count": 58,
   "metadata": {},
   "outputs": [
    {
     "data": {
      "text/plain": [
       "array([3, 0, 0, ..., 3, 3, 3])"
      ]
     },
     "execution_count": 58,
     "metadata": {},
     "output_type": "execute_result"
    }
   ],
   "source": [
    "num_memorized_all"
   ]
  },
  {
   "cell_type": "code",
   "execution_count": 51,
   "metadata": {},
   "outputs": [
    {
     "data": {
      "text/plain": [
       "array([ True,  True,  True])"
      ]
     },
     "execution_count": 51,
     "metadata": {},
     "output_type": "execute_result"
    }
   ],
   "source": [
    "train_correct[1]"
   ]
  },
  {
   "cell_type": "code",
   "execution_count": 62,
   "metadata": {},
   "outputs": [
    {
     "data": {
      "text/plain": [
       "(array([  344.,     0.,     0.,   152.,     0.,     0.,   282.,     0.,\n",
       "            0., 14755.]),\n",
       " array([0. , 0.3, 0.6, 0.9, 1.2, 1.5, 1.8, 2.1, 2.4, 2.7, 3. ]),\n",
       " <BarContainer object of 10 artists>)"
      ]
     },
     "execution_count": 62,
     "metadata": {},
     "output_type": "execute_result"
    },
    {
     "data": {
      "image/png": "[encoded data removed]",
      "text/plain": [
       "<Figure size 640x480 with 1 Axes>"
      ]
     },
     "metadata": {},
     "output_type": "display_data"
    }
   ],
   "source": [
    "plt.hist(num_memorized_all)"
   ]
  },
  {
   "cell_type": "code",
   "execution_count": 66,
   "metadata": {},
   "outputs": [
    {
     "data": {
      "text/plain": [
       "array([\"  The value of $P$ is given by $P=  \\\\left( 1 - \\\\frac{1}{2} \\\\right) \\\\left( 1 - \\\\frac{1}{3} \\\\right) \\\\left( 1 - \\\\frac{1}{4} \\\\right) \\\\dotsm \\\\left( 1 - \\\\frac{1}{n} \\\\right)$.\\nIf we add another factor of $\\\\left( 1 - \\\\frac{1}{n+1} \\\\right)$, the new value of $P$ is $P'=P \\\\cdot \\\\left( 1 - \\\\frac{1}{n+1} \\\\right)$.\\nWe can simplify $P$ as follows:\\n\\\\[P = \\\\left( 1 - \\\\frac{1}{2} \\\\right) \\\\left( 1 - \\\\frac{1}{3} \\\\right) \\\\left( 1 - \\\\frac{1}{4} \\\\right) \\\\dotsm \\\\left( 1 - \\\\frac{1}{n} \\\\right) = \\\\frac{1}{2} \\\\cdot \\\\frac{2}{3} \\\\cdot \\\\frac{3}{4} \\\\dotsm \\\\frac{n-1}{n} = \\\\frac{1}{n}.\\\\]\\nSo, if $n=2007$, then $P = \\\\frac{1}{2007}$.\\nNow, we can find the new value of $P'$:\\n\\\\[P' = P \\\\cdot \\\\left( 1 - \\\\frac{1}{n+1} \\\\right) = \\\\frac{1}{2007} \\\\cdot \\\\left( 1 - \\\\frac{1}{2008} \\\\right) = \\\\frac{1}{2007} \\\\cdot \\\\frac{2007}{2008} = \\\\frac{1}{2008}.\\\\]\\nSo, the new value of $P$ when $n=2007$ and we add the factor of $\\\\left( 1 - \\\\frac{1}{n+1} \\\\right)$ is $\\\\frac{1}{2008}$. The answer is: $\\\\frac{1}{2008}$\",\n",
       "       \"  The value of $P$ is given by $P=  \\\\left( 1 - \\\\frac{1}{2} \\\\right) \\\\left( 1 - \\\\frac{1}{3} \\\\right) \\\\left( 1 - \\\\frac{1}{4} \\\\right) \\\\dotsm \\\\left( 1 - \\\\frac{1}{n} \\\\right)$.\\nIf we add another factor of $\\\\left( 1 - \\\\frac{1}{n+1} \\\\right)$, the new value of $P$ is $P'=P \\\\cdot \\\\left( 1 - \\\\frac{1}{n+1} \\\\right)$.\\nWe can simplify $P$ as follows:\\n\\\\[P = \\\\left( 1 - \\\\frac{1}{2} \\\\right) \\\\left( 1 - \\\\frac{1}{3} \\\\right) \\\\left( 1 - \\\\frac{1}{4} \\\\right) \\\\dotsm \\\\left( 1 - \\\\frac{1}{n} \\\\right) = \\\\frac{1}{2} \\\\cdot \\\\frac{2}{3} \\\\cdot \\\\frac{3}{4} \\\\dotsm \\\\frac{n-1}{n} = \\\\frac{1}{n}.\\\\]\\nSo, if $n=2007$, then $P = \\\\frac{1}{2007}$.\\nNow, we can find the new value of $P'$:\\n\\\\[P' = P \\\\cdot \\\\left( 1 - \\\\frac{1}{n+1} \\\\right) = \\\\frac{1}{2007} \\\\cdot \\\\left( 1 - \\\\frac{1}{2008} \\\\right) = \\\\frac{1}{2007} \\\\cdot \\\\frac{2007}{2008} = \\\\frac{1}{2008}.\\\\]\\nSo, the new value of $P$ when $n=2007$ and we add the factor of $\\\\left( 1 - \\\\frac{1}{n+1} \\\\right)$ is $\\\\frac{1}{2008}$. The answer is: $\\\\frac{1}{2008}$\",\n",
       "       \"  The value of $P$ is given by $P=  \\\\left( 1 - \\\\frac{1}{2} \\\\right) \\\\left( 1 - \\\\frac{1}{3} \\\\right) \\\\left( 1 - \\\\frac{1}{4} \\\\right) \\\\dotsm \\\\left( 1 - \\\\frac{1}{n} \\\\right)$.\\nIf we add another factor of $\\\\left( 1 - \\\\frac{1}{n+1} \\\\right)$, the new value of $P$ is $P'=P \\\\cdot \\\\left( 1 - \\\\frac{1}{n+1} \\\\right)$.\\nWe can simplify $P$ as follows:\\n\\\\[P = \\\\left( 1 - \\\\frac{1}{2} \\\\right) \\\\left( 1 - \\\\frac{1}{3} \\\\right) \\\\left( 1 - \\\\frac{1}{4} \\\\right) \\\\dotsm \\\\left( 1 - \\\\frac{1}{n} \\\\right) = \\\\frac{1}{2} \\\\cdot \\\\frac{2}{3} \\\\cdot \\\\frac{3}{4} \\\\dotsm \\\\frac{n-1}{n} = \\\\frac{1}{n}.\\\\]\\nSo, if $n=2007$, then $P = \\\\frac{1}{2007}$.\\nNow, we can find the new value of $P'$:\\n\\\\[P' = P \\\\cdot \\\\left( 1 - \\\\frac{1}{n+1} \\\\right) = \\\\frac{1}{2007} \\\\cdot \\\\left( 1 - \\\\frac{1}{2008} \\\\right) = \\\\frac{1}{2007} \\\\cdot \\\\frac{2007}{2008} = \\\\frac{1}{2008}.\\\\]\\nSo, the new value of $P$ when $n=2007$ and we add the factor of $\\\\left( 1 - \\\\frac{1}{n+1} \\\\right)$ is $\\\\frac{1}{2008}$. The answer is: $\\\\frac{1}{2008}$\"],\n",
       "      dtype='<U5088')"
      ]
     },
     "execution_count": 66,
     "metadata": {},
     "output_type": "execute_result"
    }
   ],
   "source": [
    "train_samples[10]"
   ]
  },
  {
   "cell_type": "code",
   "execution_count": 50,
   "metadata": {},
   "outputs": [
    {
     "data": {
      "text/plain": [
       "' The given equation is \\\\[\\\\arctan \\\\frac{1}{x} + \\\\arctan \\\\frac{1}{x^3} + \\\\arctan \\\\frac{1}{x^5} = \\\\frac{\\\\pi}{4}.\\\\]\\n\\nWe know that $\\\\arctan a + \\\\arctan b = \\\\arctan \\\\frac{a+b}{1-ab}$ if $ab < 1$.\\n\\nApplying this formula to the first two terms on the left side, we get\\n\\\\[\\\\arctan \\\\frac{1}{x} + \\\\arctan \\\\frac{1}{x^3} = \\\\arctan \\\\frac{\\\\frac{1}{x} + \\\\frac{1}{x^3}}{1 - \\\\frac{1}{x} \\\\cdot \\\\frac{1}{x^3}} = \\\\arctan \\\\frac{x^3 + x}{x^4 - 1}.\\\\]\\n\\nSo the original equation can be rewritten as\\n\\\\[\\\\arctan \\\\frac{x^3 + x}{x^4 - 1} + \\\\arctan \\\\frac{1}{x^5} = \\\\frac{\\\\pi}{4}.\\\\]\\n\\nAgain applying the formula, we get\\n\\\\[\\\\arctan \\\\frac{\\\\frac{x^3 + x}{x^4 - 1} + \\\\frac{1}{x^5}}{1 - \\\\frac{x^3 + x}{x^4 - 1} \\\\cdot \\\\frac{1}{x^5}} = \\\\frac{\\\\pi}{4}.\\\\]\\n\\nSimplifying the numerator in the fraction inside the arctan gives\\n\\\\[\\\\frac{x^3 + x + \\\\frac{x^4 - 1}{x^5}}{x^4 - 1 - \\\\frac{x^3 + x}{x^5}} = \\\\frac{\\\\pi}{4}.\\\\]\\n\\nSimplifying the numerator and denominator gives\\n\\\\[\\\\frac{x^8 + x^5 + x^4 - 1}{x^5(x^4 - 1) - (x^3 + x)} = \\\\frac{\\\\pi}{4}.\\\\]\\n\\nSimplifying further gives\\n\\\\[\\\\frac{x^8 + x^5 + x^4 - 1}{x^9 - x^5 - x^4 + x} = \\\\frac{\\\\pi}{4}.\\\\]\\n\\nMultiplying both sides by $4$ gives\\n\\\\[\\\\frac{4(x^8 + x^5 + x^4 - 1)}{4(x^9 - x^5 - x^4 + x)} = \\\\frac{\\\\pi}{4} \\\\cdot 4.\\\\]\\n\\nSimplifying the left side gives\\n\\\\[\\\\frac{4x^8 + 4x^5 + 4x^4 - 4}{4x^9 - 4x^5 - 4x^4 + 4x} = \\\\pi.\\\\]\\n\\nSimplifying further gives\\n\\\\[\\\\frac{4x^8 + 4x^5 + 4x^4 - 4}{4x(x^8 - x^4 + x^3 - 1)} = \\\\pi.\\\\]\\n\\nDividing both sides by $4$ gives\\n\\\\[\\\\frac{x^8 + x^5 + x^4 - 1}{x(x^8 - x^4 + x^3 - 1)} = \\\\frac{\\\\pi}{4}.\\\\]\\n\\nCancelling out the common factor of $x^8 - x^4 + x^3 - 1$ in the numerator and denominator gives\\n\\\\[\\\\frac{1}{x} = \\\\frac{\\\\pi}{4}.\\\\]\\n\\nSolving for $x$ gives $x = \\\\frac{4}{\\\\pi}$.\\n\\nHowever, we need to check if this solution satisfies the original equation. Substituting $x = \\\\frac{4}{\\\\pi}$ into the original equation gives\\n\\\\[\\\\arctan \\\\frac{\\\\pi}{4} + \\\\arctan \\\\frac{\\\\pi}{16} + \\\\arctan \\\\frac{\\\\pi}{64} = \\\\frac{\\\\pi}{4}.\\\\]\\n\\nWe know that $\\\\arctan \\\\frac{\\\\pi}{4} = \\\\frac{\\\\pi}{4}$, $\\\\arctan \\\\frac{\\\\pi}{16} = \\\\arctan \\\\frac{1}{\\\\frac{4}{\\\\pi}} = \\\\arctan \\\\frac{1}{x}$, and $\\\\arctan \\\\frac{\\\\pi}{64} = \\\\arctan \\\\frac{1}{\\\\frac{4^3}{\\\\pi^3}} = \\\\arctan \\\\frac{1}{x^3}$.\\n\\nSo the equation is satisfied for $x = \\\\frac{4}{\\\\pi}$.\\n\\nTherefore, the solution to the equation is $x = \\\\frac{4}{\\\\pi}$. The answer is: $\\\\frac{4}{\\\\pi}$'"
      ]
     },
     "execution_count": 50,
     "metadata": {},
     "output_type": "execute_result"
    }
   ],
   "source": [
    "train_answers[subsample_idxs[1]]"
   ]
  },
  {
   "cell_type": "code",
   "execution_count": null,
   "metadata": {},
   "outputs": [],
   "source": []
  }
 ],
 "metadata": {
  "kernelspec": {
   "display_name": "trlx",
   "language": "python",
   "name": "python3"
  },
  "language_info": {
   "codemirror_mode": {
    "name": "ipython",
    "version": 3
   },
   "file_extension": ".py",
   "mimetype": "text/x-python",
   "name": "python",
   "nbconvert_exporter": "python",
   "pygments_lexer": "ipython3",
   "version": "3.9.18"
  }
 },
 "nbformat": 4,
 "nbformat_minor": 2
}
