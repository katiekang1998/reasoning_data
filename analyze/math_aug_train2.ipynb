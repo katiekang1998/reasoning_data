{
 "cells": [
  {
   "cell_type": "code",
   "execution_count": 1,
   "metadata": {},
   "outputs": [
    {
     "name": "stderr",
     "output_type": "stream",
     "text": [
      "/data/katie_kang/miniconda3/envs/trlx2/lib/python3.9/site-packages/tqdm/auto.py:21: TqdmWarning: IProgress not found. Please update jupyter and ipywidgets. See https://ipywidgets.readthedocs.io/en/stable/user_install.html\n",
      "  from .autonotebook import tqdm as notebook_tqdm\n"
     ]
    },
    {
     "name": "stdout",
     "output_type": "stream",
     "text": [
      "[2024-07-11 00:35:30,889] [INFO] [real_accelerator.py:191:get_accelerator] Setting ds_accelerator to cuda (auto detect)\n"
     ]
    }
   ],
   "source": [
    "import numpy as np \n",
    "import matplotlib.pyplot as plt \n",
    "import json\n",
    "import evaluate\n",
    "import tqdm"
   ]
  },
  {
   "cell_type": "code",
   "execution_count": 2,
   "metadata": {},
   "outputs": [],
   "source": [
    "rouge = evaluate.load('rouge')"
   ]
  },
  {
   "cell_type": "code",
   "execution_count": 5,
   "metadata": {},
   "outputs": [],
   "source": [
    "train_num_correct = (np.concatenate([np.load(\"data/MATH_aug/train_aug_1_answer_types5_seed2.npy\"), np.load(\"data/MATH_aug/train_aug_2_answer_types5_seed2.npy\")], axis=0)==0).sum(axis=-1)\n",
    "easy_train_idxs = np.where(train_num_correct==5)[0]\n",
    "medium_train_idxs = np.where((train_num_correct<5)*(train_num_correct>0))[0]"
   ]
  },
  {
   "cell_type": "code",
   "execution_count": 4,
   "metadata": {},
   "outputs": [],
   "source": [
    "with open('data/MATH_aug/AugMATH_part1.jsonl', 'r') as json_file:\n",
    "    json_list = list(json_file)\n",
    "\n",
    "with open('data/MATH_aug/AugMATH_part2.jsonl', 'r') as json_file:\n",
    "    json_list += list(json_file)\n",
    "\n",
    "train_questions = []\n",
    "train_answers = []\n",
    "for json_str in json_list:\n",
    "    result = json.loads(json_str)\n",
    "    train_questions.append(result[\"query\"])\n",
    "    train_answers.append(result[\"response\"])\n",
    "    \n",
    "train_questions = np.array(train_questions)\n",
    "train_answers = np.array(train_answers)"
   ]
  },
  {
   "cell_type": "code",
   "execution_count": 6,
   "metadata": {},
   "outputs": [
    {
     "name": "stdout",
     "output_type": "stream",
     "text": [
      "2210\n",
      "0.006787330316742082 0.3755656108597285 0.6176470588235294\n",
      "2210\n",
      "0.02760180995475113 0.5782805429864254 0.3941176470588235\n",
      "2210\n",
      "0.15701357466063348 0.6085972850678733 0.2343891402714932\n",
      "2210\n",
      "0.4497737556561086 0.4502262443438914 0.1\n"
     ]
    }
   ],
   "source": [
    "NUM_TRAIN_POINTS=20000\n",
    "HARD_RATIO = 0.75\n",
    "EASY_RATIO=(1-HARD_RATIO)*0.35\n",
    "MEDIUM_RATIO=(1-HARD_RATIO)*0.65\n",
    "\n",
    "\n",
    "CKPT_NAME=f\"math_aug_easy{EASY_RATIO:.2f}_medium{MEDIUM_RATIO:.2f}_hard{HARD_RATIO:.2f}_total{NUM_TRAIN_POINTS}\"\n",
    "\n",
    "subsample_idxs = np.load(\"ckpts/\"+CKPT_NAME+\"/subsample_idxs.npy\")[:5000]\n",
    "\n",
    "\n",
    "rouges_hard0pt75 = []\n",
    "ratios_hard0pt75 = []\n",
    "for checkpoint_strs in [\"2000\", \"4000\", \"6000\", \"8000\"]:\n",
    "\n",
    "    train_correct = np.load(\"ckpts/\"+CKPT_NAME+\"/checkpoint-\"+checkpoint_strs+\"/train_aug_subsample_answer_types5_seed2.npy\")==0\n",
    "    train_samples = np.load(\"ckpts/\"+CKPT_NAME+\"/checkpoint-\"+checkpoint_strs+\"/train_aug_subsample_answers5_seed2.npy\")\n",
    "    # hard_subsample = np.where(np.isin(subsample_idxs, hard_train_idxs))[0]\n",
    "    easy_subsample = np.where(np.isin(subsample_idxs, easy_train_idxs))[0]\n",
    "\n",
    "\n",
    "    incorrect = 0\n",
    "    exact_match = 0\n",
    "    correct_different = 0\n",
    "    predictions =[]\n",
    "    references = []\n",
    "    for input_idx in easy_subsample:\n",
    "        for sample_idx in range(5):\n",
    "            correct = train_correct[input_idx, sample_idx]\n",
    "            if correct:\n",
    "                if train_samples[input_idx][sample_idx].strip() == train_answers[subsample_idxs[input_idx]].strip():\n",
    "                    exact_match+=1\n",
    "                else:\n",
    "                    correct_different+=1\n",
    "                predictions.append(train_samples[input_idx][sample_idx].strip())\n",
    "                references.append(train_answers[subsample_idxs[input_idx]].strip())\n",
    "            else:\n",
    "                incorrect+=1\n",
    "    # results = rouge.compute(predictions=predictions, references=references, use_aggregator=False)\n",
    "    # rouges_hard0pt75.append(results['rougeL'])\n",
    "\n",
    "    total = exact_match+correct_different+incorrect\n",
    "    print(total)\n",
    "    print(exact_match/total, correct_different/total, incorrect/total)\n",
    "    ratios_hard0pt75.append([exact_match/total, correct_different/total, incorrect/total])"
   ]
  },
  {
   "cell_type": "code",
   "execution_count": null,
   "metadata": {},
   "outputs": [],
   "source": []
  }
 ],
 "metadata": {
  "kernelspec": {
   "display_name": "Python 3.12.3 64-bit",
   "language": "python",
   "name": "python3"
  },
  "language_info": {
   "codemirror_mode": {
    "name": "ipython",
    "version": 3
   },
   "file_extension": ".py",
   "mimetype": "text/x-python",
   "name": "python",
   "nbconvert_exporter": "python",
   "pygments_lexer": "ipython3",
   "version": "3.9.19"
  },
  "vscode": {
   "interpreter": {
    "hash": "916dbcbb3f70747c44a77c7bcd40155683ae19c65e1c03b4aa3499c5328201f1"
   }
  }
 },
 "nbformat": 4,
 "nbformat_minor": 2
}
