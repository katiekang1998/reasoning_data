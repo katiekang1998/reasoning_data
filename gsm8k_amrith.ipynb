{
 "cells": [
  {
   "cell_type": "code",
   "execution_count": 1,
   "metadata": {},
   "outputs": [],
   "source": [
    "import numpy as np \n",
    "import matplotlib.pyplot as plt "
   ]
  },
  {
   "cell_type": "code",
   "execution_count": 2,
   "metadata": {},
   "outputs": [
    {
     "data": {
      "text/plain": [
       "7473"
      ]
     },
     "execution_count": 2,
     "metadata": {},
     "output_type": "execute_result"
    }
   ],
   "source": [
    "from datasets import load_dataset\n",
    "dataset = load_dataset(\"gsm8k\", \"main\")\n",
    "train_questions_orig = np.array(dataset[\"train\"][\"question\"])\n",
    "train_answers_orig = np.array(dataset[\"train\"]['answer'])\n",
    "len(train_questions_orig)"
   ]
  },
  {
   "cell_type": "code",
   "execution_count": 9,
   "metadata": {},
   "outputs": [
    {
     "data": {
      "text/plain": [
       "44838"
      ]
     },
     "execution_count": 9,
     "metadata": {},
     "output_type": "execute_result"
    }
   ],
   "source": [
    "with open('ckpts/amrith_gsm8k/gsm8k_batch_1_outputs_gpt4.jsonl', 'r') as json_file:\n",
    "    json_list = list(json_file)\n",
    "len(json_list)"
   ]
  },
  {
   "cell_type": "code",
   "execution_count": 11,
   "metadata": {},
   "outputs": [
    {
     "name": "stdout",
     "output_type": "stream",
     "text": [
      "(76311, 0.689461713419257)\n"
     ]
    }
   ],
   "source": [
    "file_name = \"gsm8k_amrith_3epochs_batch_1_threshold0.5_lr2e-05_bs128\"\n",
    "\n",
    "num_expls = 7473 + 44838 + len(np.load(f\"ckpts/{file_name}/amrith_data_subsample_idxs.npy\"))\n",
    "test_acc = (np.load(f\"ckpts/{file_name}/test_answer_types5_seed2_temp0.8.npy\")==0).mean()\n",
    "print((num_expls, test_acc))"
   ]
  },
  {
   "cell_type": "code",
   "execution_count": 12,
   "metadata": {},
   "outputs": [
    {
     "name": "stdout",
     "output_type": "stream",
     "text": [
      "(76311, 0.6724791508718726)\n"
     ]
    }
   ],
   "source": [
    "file_name = \"gsm8k_amrith_3epochs_batch_1_threshold1_lr2e-05_bs128\"\n",
    "\n",
    "num_expls = 7473 + 44838 + len(np.load(f\"ckpts/{file_name}/amrith_data_subsample_idxs.npy\"))\n",
    "test_acc = (np.load(f\"ckpts/{file_name}/test_answer_types5_seed2_temp0.8.npy\")==0).mean()\n",
    "print((num_expls, test_acc))"
   ]
  },
  {
   "cell_type": "code",
   "execution_count": 13,
   "metadata": {},
   "outputs": [
    {
     "name": "stdout",
     "output_type": "stream",
     "text": [
      "(52311, 0.6606520090978014)\n"
     ]
    }
   ],
   "source": [
    "file_name = \"gsm8k_amrith_3epochs_batch_1_all_lr2e-05_bs128\"\n",
    "\n",
    "num_expls = 7473 + 44838\n",
    "test_acc = (np.load(f\"ckpts/{file_name}/checkpoint-1224/test_answer_types5_seed2_temp0.8.npy\")==0).mean()\n",
    "print((num_expls, test_acc))"
   ]
  },
  {
   "cell_type": "code",
   "execution_count": 14,
   "metadata": {},
   "outputs": [
    {
     "name": "stdout",
     "output_type": "stream",
     "text": [
      "(14946, 0.6110689916603488)\n"
     ]
    }
   ],
   "source": [
    "file_name = \"gsm8k_amrith_3epochs_threshold1_lr2e-05_bs128\"\n",
    "\n",
    "num_expls = 7473 + len(np.load(f\"ckpts/{file_name}/amrith_data_subsample_idxs.npy\"))\n",
    "test_acc = (np.load(f\"ckpts/{file_name}/test_answer_types5_seed2_temp0.8.npy\")==0).mean()\n",
    "print((num_expls, test_acc))"
   ]
  },
  {
   "cell_type": "code",
   "execution_count": 15,
   "metadata": {},
   "outputs": [
    {
     "name": "stdout",
     "output_type": "stream",
     "text": [
      "(14946, 0.6362395754359363)\n"
     ]
    }
   ],
   "source": [
    "file_name = \"gsm8k_amrith_3epochs_threshold0.5_lr2e-05_bs128\"\n",
    "\n",
    "num_expls = 7473 + len(np.load(f\"ckpts/{file_name}/amrith_data_subsample_idxs.npy\"))\n",
    "test_acc = (np.load(f\"ckpts/{file_name}/test_answer_types5_seed2_temp0.8.npy\")==0).mean()\n",
    "print((num_expls, test_acc))"
   ]
  },
  {
   "cell_type": "code",
   "execution_count": 16,
   "metadata": {},
   "outputs": [
    {
     "name": "stdout",
     "output_type": "stream",
     "text": [
      "(7473, 0.5725549658832448)\n"
     ]
    }
   ],
   "source": [
    "file_name = \"gsm8k_orig_3epochs_full_lr2e-05_bs128\"\n",
    "num_expls = 7473 \n",
    "\n",
    "test_acc = (np.load(f\"ckpts/{file_name}/checkpoint-174/test_answer_types5_seed2_temp0.8.npy\")==0).mean()\n",
    "print((num_expls, test_acc))"
   ]
  },
  {
   "cell_type": "code",
   "execution_count": null,
   "metadata": {},
   "outputs": [],
   "source": []
  },
  {
   "cell_type": "code",
   "execution_count": 22,
   "metadata": {},
   "outputs": [
    {
     "data": {
      "text/plain": [
       "[<matplotlib.lines.Line2D at 0x7911f49bba00>]"
      ]
     },
     "execution_count": 22,
     "metadata": {},
     "output_type": "execute_result"
    },
    {
     "data": {
      "image/png": "[encoded data removed]",
      "text/plain": [
       "<Figure size 640x480 with 1 Axes>"
      ]
     },
     "metadata": {},
     "output_type": "display_data"
    }
   ],
   "source": [
    "plt.plot([7473, 14946, 52311, 76311], \n",
    "         [0.5725549658832448, 0.6110689916603488, 0.6606520090978014, 0.6724791508718726], \"o-\")\n",
    "\n",
    "plt.plot([7473, 14946],\n",
    "         [0.5725549658832448,0.6362395754359363], \"o-\")\n",
    "\n",
    "plt.plot([52311, 76311],\n",
    "         [0.6606520090978014, 0.689461713419257], \"o-\")"
   ]
  },
  {
   "cell_type": "code",
   "execution_count": null,
   "metadata": {},
   "outputs": [],
   "source": []
  }
 ],
 "metadata": {
  "kernelspec": {
   "display_name": "Python 3.9.19 ('trlx2')",
   "language": "python",
   "name": "python3"
  },
  "language_info": {
   "codemirror_mode": {
    "name": "ipython",
    "version": 3
   },
   "file_extension": ".py",
   "mimetype": "text/x-python",
   "name": "python",
   "nbconvert_exporter": "python",
   "pygments_lexer": "ipython3",
   "version": "3.9.19"
  },
  "orig_nbformat": 4,
  "vscode": {
   "interpreter": {
    "hash": "880a2784cc7455d0838240b106af40f2a25d56f4b3fd04cbca1f9dd75c2a460d"
   }
  }
 },
 "nbformat": 4,
 "nbformat_minor": 2
}
