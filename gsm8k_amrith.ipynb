{
 "cells": [
  {
   "cell_type": "code",
   "execution_count": 1,
   "metadata": {},
   "outputs": [],
   "source": [
    "import numpy as np \n",
    "import matplotlib.pyplot as plt \n",
    "import os "
   ]
  },
  {
   "cell_type": "code",
   "execution_count": 33,
   "metadata": {},
   "outputs": [
    {
     "data": {
      "text/plain": [
       "7473"
      ]
     },
     "execution_count": 33,
     "metadata": {},
     "output_type": "execute_result"
    }
   ],
   "source": [
    "from datasets import load_dataset\n",
    "dataset = load_dataset(\"gsm8k\", \"main\")\n",
    "train_questions_orig = np.array(dataset[\"train\"][\"question\"])\n",
    "train_answers_orig = np.array(dataset[\"train\"]['answer'])\n",
    "len(train_questions_orig)"
   ]
  },
  {
   "cell_type": "code",
   "execution_count": 3,
   "metadata": {},
   "outputs": [
    {
     "data": {
      "text/plain": [
       "44838"
      ]
     },
     "execution_count": 3,
     "metadata": {},
     "output_type": "execute_result"
    }
   ],
   "source": [
    "with open('ckpts/amrith_gsm8k/gsm8k_batch_1_outputs_gpt4.jsonl', 'r') as json_file:\n",
    "    json_list = list(json_file)\n",
    "len(json_list)"
   ]
  },
  {
   "cell_type": "code",
   "execution_count": 29,
   "metadata": {},
   "outputs": [
    {
     "name": "stdout",
     "output_type": "stream",
     "text": [
      "(76311, 0.6924943138741471)\n"
     ]
    }
   ],
   "source": [
    "file_name = \"gsm8k_amrith_3epochs_batch_1_threshold0.75_lr2e-05_bs128\"\n",
    "\n",
    "num_expls = 7473 + 44838 + len(np.load(f\"ckpts/{file_name}/amrith_data_subsample_idxs.npy\"))\n",
    "test_acc = (np.load(f\"ckpts/{file_name}/test_answer_types5_seed2_temp0.8.npy\")==0).mean()\n",
    "print((num_expls, test_acc))"
   ]
  },
  {
   "cell_type": "code",
   "execution_count": 4,
   "metadata": {},
   "outputs": [
    {
     "name": "stdout",
     "output_type": "stream",
     "text": [
      "(76311, 0.689461713419257)\n"
     ]
    }
   ],
   "source": [
    "file_name = \"gsm8k_amrith_3epochs_batch_1_threshold0.5_lr2e-05_bs128\"\n",
    "\n",
    "num_expls = 7473 + 44838 + len(np.load(f\"ckpts/{file_name}/amrith_data_subsample_idxs.npy\"))\n",
    "test_acc = (np.load(f\"ckpts/{file_name}/test_answer_types5_seed2_temp0.8.npy\")==0).mean()\n",
    "print((num_expls, test_acc))"
   ]
  },
  {
   "cell_type": "code",
   "execution_count": 5,
   "metadata": {},
   "outputs": [
    {
     "name": "stdout",
     "output_type": "stream",
     "text": [
      "(76311, 0.6724791508718726)\n"
     ]
    }
   ],
   "source": [
    "file_name = \"gsm8k_amrith_3epochs_batch_1_threshold1_lr2e-05_bs128\"\n",
    "\n",
    "num_expls = 7473 + 44838 + len(np.load(f\"ckpts/{file_name}/amrith_data_subsample_idxs.npy\"))\n",
    "test_acc = (np.load(f\"ckpts/{file_name}/test_answer_types5_seed2_temp0.8.npy\")==0).mean()\n",
    "print((num_expls, test_acc))"
   ]
  },
  {
   "cell_type": "code",
   "execution_count": 6,
   "metadata": {},
   "outputs": [
    {
     "name": "stdout",
     "output_type": "stream",
     "text": [
      "(52311, 0.6606520090978014)\n"
     ]
    }
   ],
   "source": [
    "file_name = \"gsm8k_amrith_3epochs_batch_1_all_lr2e-05_bs128\"\n",
    "\n",
    "num_expls = 7473 + 44838\n",
    "test_acc = (np.load(f\"ckpts/{file_name}/checkpoint-1224/test_answer_types5_seed2_temp0.8.npy\")==0).mean()\n",
    "print((num_expls, test_acc))"
   ]
  },
  {
   "cell_type": "code",
   "execution_count": 7,
   "metadata": {},
   "outputs": [
    {
     "name": "stdout",
     "output_type": "stream",
     "text": [
      "(14946, 0.6110689916603488)\n"
     ]
    }
   ],
   "source": [
    "file_name = \"gsm8k_amrith_3epochs_threshold1_lr2e-05_bs128\"\n",
    "\n",
    "num_expls = 7473 + len(np.load(f\"ckpts/{file_name}/amrith_data_subsample_idxs.npy\"))\n",
    "test_acc = (np.load(f\"ckpts/{file_name}/test_answer_types5_seed2_temp0.8.npy\")==0).mean()\n",
    "print((num_expls, test_acc))"
   ]
  },
  {
   "cell_type": "code",
   "execution_count": 8,
   "metadata": {},
   "outputs": [
    {
     "name": "stdout",
     "output_type": "stream",
     "text": [
      "(14946, 0.6362395754359363)\n"
     ]
    }
   ],
   "source": [
    "file_name = \"gsm8k_amrith_3epochs_threshold0.5_lr2e-05_bs128\"\n",
    "\n",
    "num_expls = 7473 + len(np.load(f\"ckpts/{file_name}/amrith_data_subsample_idxs.npy\"))\n",
    "test_acc = (np.load(f\"ckpts/{file_name}/test_answer_types5_seed2_temp0.8.npy\")==0).mean()\n",
    "print((num_expls, test_acc))"
   ]
  },
  {
   "cell_type": "code",
   "execution_count": 25,
   "metadata": {},
   "outputs": [
    {
     "name": "stdout",
     "output_type": "stream",
     "text": [
      "(14946, 0.6160727824109173)\n"
     ]
    }
   ],
   "source": [
    "file_name = \"gsm8k_amrith_3epochs_threshold0.75_lr2e-05_bs128\"\n",
    "\n",
    "num_expls = 7473 + len(np.load(f\"ckpts/{file_name}/amrith_data_subsample_idxs.npy\"))\n",
    "test_acc = (np.load(f\"ckpts/{file_name}/test_answer_types5_seed2_temp0.8.npy\")==0).mean()\n",
    "print((num_expls, test_acc))"
   ]
  },
  {
   "cell_type": "code",
   "execution_count": 9,
   "metadata": {},
   "outputs": [
    {
     "name": "stdout",
     "output_type": "stream",
     "text": [
      "(7473, 0.5725549658832448)\n"
     ]
    }
   ],
   "source": [
    "file_name = \"gsm8k_orig_3epochs_full_lr2e-05_bs128\"\n",
    "num_expls = 7473 \n",
    "\n",
    "test_acc = (np.load(f\"ckpts/{file_name}/checkpoint-174/test_answer_types5_seed2_temp0.8.npy\")==0).mean()\n",
    "print((num_expls, test_acc))"
   ]
  },
  {
   "cell_type": "code",
   "execution_count": 105,
   "metadata": {},
   "outputs": [
    {
     "name": "stdout",
     "output_type": "stream",
     "text": [
      "(11209, 0.6045489006823351)\n"
     ]
    }
   ],
   "source": [
    "file_name = \"gsm8k_amrith_3epochs_0copies_threshold0.75_0.5newcopies_lr2e-05_bs128\"\n",
    "\n",
    "num_expls = 7473 + len(np.load(f\"ckpts/{file_name}/amrith_data_subsample_idxs.npy\"))\n",
    "test_acc = (np.load(f\"ckpts/{file_name}/checkpoint-261/test_answer_types5_seed2_temp0.8.npy\")==0).mean()\n",
    "print((num_expls, test_acc))"
   ]
  },
  {
   "cell_type": "code",
   "execution_count": 106,
   "metadata": {},
   "outputs": [
    {
     "name": "stdout",
     "output_type": "stream",
     "text": [
      "(14946, 0.621076573161486)\n"
     ]
    }
   ],
   "source": [
    "file_name = \"gsm8k_amrith_3epochs_0copies_threshold0.75_1newcopies_lr2e-05_bs128\"\n",
    "\n",
    "num_expls = 7473 + len(np.load(f\"ckpts/{file_name}/amrith_data_subsample_idxs.npy\"))\n",
    "test_acc = (np.load(f\"ckpts/{file_name}/checkpoint-348/test_answer_types5_seed2_temp0.8.npy\")==0).mean()\n",
    "print((num_expls, test_acc))"
   ]
  },
  {
   "cell_type": "code",
   "execution_count": 107,
   "metadata": {},
   "outputs": [
    {
     "name": "stdout",
     "output_type": "stream",
     "text": [
      "(22419, 0.6444275966641395)\n"
     ]
    }
   ],
   "source": [
    "file_name = \"gsm8k_amrith_3epochs_1copies_threshold0.75_1newcopies_lr2e-05_bs128\"\n",
    "\n",
    "num_expls = 7473 + len(np.load(f\"ckpts/{file_name}/amrith_data_subsample_idxs.npy\"))\n",
    "test_acc = (np.load(f\"ckpts/{file_name}/test_answer_types5_seed2_temp0.8.npy\")==0).mean()\n",
    "print((num_expls, test_acc))"
   ]
  },
  {
   "cell_type": "code",
   "execution_count": 113,
   "metadata": {},
   "outputs": [
    {
     "name": "stdout",
     "output_type": "stream",
     "text": [
      "(29892, 0.6557998483699773)\n"
     ]
    }
   ],
   "source": [
    "file_name = \"gsm8k_amrith_3epochs_1copies_threshold0.75_2newcopies_lr2e-05_bs128\"\n",
    "\n",
    "num_expls = 7473 + len(np.load(f\"ckpts/{file_name}/amrith_data_subsample_idxs.npy\"))\n",
    "test_acc = (np.load(f\"ckpts/{file_name}/test_answer_types5_seed2_temp0.8.npy\")==0).mean()\n",
    "print((num_expls, test_acc))"
   ]
  },
  {
   "cell_type": "code",
   "execution_count": 116,
   "metadata": {},
   "outputs": [
    {
     "name": "stdout",
     "output_type": "stream",
     "text": [
      "(44838, 0.665352539802881)\n"
     ]
    }
   ],
   "source": [
    "file_name = \"gsm8k_amrith_3epochs_3copies_threshold0.75_2newcopies_lr2e-05_bs128\"\n",
    "\n",
    "num_expls = 7473 + len(np.load(f\"ckpts/{file_name}/amrith_data_subsample_idxs.npy\"))\n",
    "test_acc = (np.load(f\"ckpts/{file_name}/checkpoint-1050/test_answer_types5_seed2_temp0.8.npy\")==0).mean()\n",
    "print((num_expls, test_acc))"
   ]
  },
  {
   "cell_type": "code",
   "execution_count": 97,
   "metadata": {},
   "outputs": [
    {
     "name": "stdout",
     "output_type": "stream",
     "text": [
      "(59784, 0.6685746777862017)\n"
     ]
    }
   ],
   "source": [
    "file_name = \"gsm8k_amrith_3epochs_3copies_threshold0.75_4newcopies_lr2e-05_bs128\"\n",
    "\n",
    "num_expls = 7473 + len(np.load(f\"ckpts/{file_name}/amrith_data_subsample_idxs.npy\"))\n",
    "test_acc = (np.load(f\"ckpts/{file_name}/checkpoint-1401/test_answer_types20_seed2_temp0.8.npy\")==0).mean()\n",
    "print((num_expls, test_acc))"
   ]
  },
  {
   "cell_type": "code",
   "execution_count": 98,
   "metadata": {},
   "outputs": [
    {
     "name": "stdout",
     "output_type": "stream",
     "text": [
      "(89676, 0.6811599696739955)\n"
     ]
    }
   ],
   "source": [
    "file_name = \"gsm8k_amrith_3epochs_7copies_threshold0.75_4newcopies_lr2e-05_bs128\"\n",
    "\n",
    "num_expls = 7473 + len(np.load(f\"ckpts/{file_name}/amrith_data_subsample_idxs.npy\"))\n",
    "test_acc = (np.load(f\"ckpts/{file_name}/checkpoint-2100/test_answer_types20_seed2_temp0.8.npy\")==0).mean()\n",
    "print((num_expls, test_acc))"
   ]
  },
  {
   "cell_type": "code",
   "execution_count": 120,
   "metadata": {},
   "outputs": [
    {
     "name": "stdout",
     "output_type": "stream",
     "text": [
      "checkpoint-174\n",
      "checkpoint-348\n",
      "checkpoint-699\n",
      "checkpoint-1401\n",
      "checkpoint-2802\n",
      "[7473, 14946, 29892, 59784, 119568]\n",
      "[0.5725549658832448, 0.6142153146322972, 0.6409401061410159, 0.6676269901440485, 0.6732373009855952]\n"
     ]
    },
    {
     "data": {
      "image/png": "[encoded data removed]",
      "text/plain": [
       "<Figure size 640x480 with 1 Axes>"
      ]
     },
     "metadata": {},
     "output_type": "display_data"
    }
   ],
   "source": [
    "accs = []\n",
    "num_expls_all = []\n",
    "for num_copies in [0, 1, 3, 7, 15]:\n",
    "\n",
    "    \n",
    "    \n",
    "    file_name = f\"gsm8k_amrith_3epochs_{num_copies}copies_lr2e-05_bs128\"\n",
    "    ckpts = sorted([\n",
    "    f for f in os.listdir(\"ckpts/\"+file_name) if os.path.isdir(os.path.join(\"ckpts/\"+file_name, f))\n",
    "    ], key=lambda x: int(x.split('-')[1]))\n",
    "    print(ckpts[-1])\n",
    "    try:\n",
    "        acc = (np.load(f\"ckpts/{file_name}/{ckpts[-1]}/test_answer_types5_seed2_temp0.8.npy\")==0)[:, :].mean()\n",
    "    except:\n",
    "        acc = (np.load(f\"ckpts/{file_name}/{ckpts[-1]}/test_answer_types20_seed2_temp0.8.npy\")==0)[:, :].mean()\n",
    "\n",
    "    num_expls = 7473 + num_copies*7473\n",
    "    num_expls_all.append(num_expls)\n",
    "    accs.append(acc)\n",
    "    \n",
    "\n",
    "plt.plot(np.log2(num_expls_all), accs, \"o-\", label = \"IID\")\n",
    "\n",
    "\n",
    "print(num_expls_all)\n",
    "print(accs)\n",
    "\n",
    "# (11209, 0.6045489006823351)\n",
    "# (14946, 0.621076573161486)\n",
    "\n",
    "plt.plot(np.log2([7473, 11209, 14946]), [0.5725549658832448, 0.6045489006823351, 0.621076573161486], \"o-\")\n",
    "\n",
    "# (22419, 0.6371872630780895)\n",
    "# (29892, 0.653297952994693)\n",
    "plt.plot(np.log2([14946, 22419,29892]), [0.6142153146322972, 0.6371872630780895, 0.653297952994693], \"o-\")\n",
    "\n",
    "# (44838, 0.665352539802881)\n",
    "# (59784, 0.6733889310083396)\n",
    "plt.plot(np.log2([29892, 44838, 59784]), [0.6409401061410159, 0.665352539802881, 0.6776345716451857], \"o-\")\n",
    "\n",
    "\n",
    "plt.plot(np.log2([59784, 89676]), [0.6676269901440485, 0.6884003032600455], \"o-\")\n",
    "\n",
    "\n",
    "# plt.xticks([7473*i for i in range(11)], [i for i in range(11)])\n",
    "\n",
    "# plt.xticks([7473*i for i in [1, 2, 4, 8, 16]], [1, 2, 4, 8, 16])\n",
    "\n",
    "plt.xlabel(\"Number of examples/8k\")\n",
    "\n",
    "plt.ylabel(\"Test accuracy\")\n",
    "plt.legend()\n",
    "plt.title(\"GSM8k\")\n",
    "\n",
    "plt.savefig(\"delete.png\")"
   ]
  },
  {
   "cell_type": "code",
   "execution_count": null,
   "metadata": {},
   "outputs": [],
   "source": []
  },
  {
   "cell_type": "code",
   "execution_count": 90,
   "metadata": {},
   "outputs": [
    {
     "data": {
      "text/plain": [
       "0.6409401061410159"
      ]
     },
     "execution_count": 90,
     "metadata": {},
     "output_type": "execute_result"
    }
   ],
   "source": [
    "(np.load(f\"ckpts/gsm8k_amrith_3epochs_1copies_threshold0.5_1newcopies_lr2e-05_bs128/test_answer_types5_seed2_temp0.8.npy\")==0)[:, :].mean()"
   ]
  },
  {
   "cell_type": "code",
   "execution_count": 91,
   "metadata": {},
   "outputs": [
    {
     "data": {
      "text/plain": [
       "0.6444275966641395"
      ]
     },
     "execution_count": 91,
     "metadata": {},
     "output_type": "execute_result"
    }
   ],
   "source": [
    "(np.load(f\"ckpts/gsm8k_amrith_3epochs_1copies_threshold0.75_1newcopies_lr2e-05_bs128/test_answer_types5_seed2_temp0.8.npy\")==0)[:, :].mean()"
   ]
  },
  {
   "cell_type": "code",
   "execution_count": 85,
   "metadata": {},
   "outputs": [
    {
     "data": {
      "text/plain": [
       "0.6292645943896892"
      ]
     },
     "execution_count": 85,
     "metadata": {},
     "output_type": "execute_result"
    }
   ],
   "source": [
    "(np.load(f\"ckpts/gsm8k_amrith_3epochs_1copies_threshold0.5_1newcopies_lr2e-05_bs128/test_answer_types5_seed3_temp0.8.npy\")==0).mean()"
   ]
  },
  {
   "cell_type": "code",
   "execution_count": null,
   "metadata": {},
   "outputs": [],
   "source": [
    "orig \n",
    "orig+1 \n",
    "orig+1+2 (3)\n",
    "orig+1+2+4 (7)\n",
    "orig+1+2+4+8 (15)\n",
    "\n",
    "\n",
    "\n",
    "# add threshold -- half of delta with next one"
   ]
  },
  {
   "cell_type": "code",
   "execution_count": 5,
   "metadata": {},
   "outputs": [
    {
     "data": {
      "text/plain": [
       "15"
      ]
     },
     "execution_count": 5,
     "metadata": {},
     "output_type": "execute_result"
    }
   ],
   "source": [
    "7+8"
   ]
  },
  {
   "cell_type": "code",
   "execution_count": 11,
   "metadata": {},
   "outputs": [
    {
     "data": {
      "text/plain": [
       "37365"
      ]
     },
     "execution_count": 11,
     "metadata": {},
     "output_type": "execute_result"
    }
   ],
   "source": [
    "7473*5"
   ]
  },
  {
   "cell_type": "code",
   "execution_count": 14,
   "metadata": {},
   "outputs": [
    {
     "data": {
      "text/plain": [
       "10.21156162183862"
      ]
     },
     "execution_count": 14,
     "metadata": {},
     "output_type": "execute_result"
    }
   ],
   "source": [
    "76311/7473"
   ]
  },
  {
   "cell_type": "code",
   "execution_count": null,
   "metadata": {},
   "outputs": [],
   "source": []
  }
 ],
 "metadata": {
  "kernelspec": {
   "display_name": "Python 3.9.19 ('trlx2')",
   "language": "python",
   "name": "python3"
  },
  "language_info": {
   "codemirror_mode": {
    "name": "ipython",
    "version": 3
   },
   "file_extension": ".py",
   "mimetype": "text/x-python",
   "name": "python",
   "nbconvert_exporter": "python",
   "pygments_lexer": "ipython3",
   "version": "3.9.19"
  },
  "orig_nbformat": 4,
  "vscode": {
   "interpreter": {
    "hash": "880a2784cc7455d0838240b106af40f2a25d56f4b3fd04cbca1f9dd75c2a460d"
   }
  }
 },
 "nbformat": 4,
 "nbformat_minor": 2
}
