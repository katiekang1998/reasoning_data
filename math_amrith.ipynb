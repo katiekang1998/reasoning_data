{
 "cells": [
  {
   "cell_type": "code",
   "execution_count": 2,
   "metadata": {},
   "outputs": [],
   "source": [
    "import numpy as np \n",
    "import matplotlib.pyplot as plt \n",
    "from datasets import load_dataset\n",
    "import os \n",
    "import copy"
   ]
  },
  {
   "cell_type": "code",
   "execution_count": 36,
   "metadata": {},
   "outputs": [
    {
     "data": {
      "text/plain": [
       "(array([622., 390., 300., 242., 260., 240., 218., 260., 293., 320., 359.]),\n",
       " array([-0.05,  0.05,  0.15,  0.25,  0.35,  0.45,  0.55,  0.65,  0.75,\n",
       "         0.85,  0.95,  1.05]),\n",
       " <BarContainer object of 11 artists>)"
      ]
     },
     "execution_count": 36,
     "metadata": {},
     "output_type": "execute_result"
    },
    {
     "data": {
      "image/png": "[encoded data removed]",
      "text/plain": [
       "<Figure size 640x480 with 1 Axes>"
      ]
     },
     "metadata": {},
     "output_type": "display_data"
    }
   ],
   "source": [
    "plt.hist(np.load(\"ckpts/math_amrith_easy_deepseek_3epochs_0copies_lr2e-05_bs128/unmemorized_acc_cummax_all.npy\")[-1], bins=np.arange(0, 1.2, 0.1)-0.05)\n",
    "# plt.savefig(\"delete.png\")"
   ]
  },
  {
   "cell_type": "code",
   "execution_count": 8,
   "metadata": {},
   "outputs": [
    {
     "data": {
      "text/plain": [
       "0.7226027397260274"
      ]
     },
     "execution_count": 8,
     "metadata": {},
     "output_type": "execute_result"
    }
   ],
   "source": [
    "(np.load(\"ckpts/math_amrith_easy_deepseek_3epochs_0copies_lr2e-05_bs128/unmemorized_acc_cummax_all.npy\")[-1]<=0.75).mean()"
   ]
  },
  {
   "cell_type": "code",
   "execution_count": 53,
   "metadata": {},
   "outputs": [],
   "source": [
    "run_name = \"math_amrith_easy_3epochs_prev{prev{prev{0copies}}}_lr2e-05_bs128\"\n",
    "# run_name = \"math_amrith_easy_3epochs_7copies_lr2e-05_bs128\"\n",
    "\n",
    "ckpt = \"657\"\n",
    "\n",
    "samples = np.load(f\"ckpts/{run_name}/checkpoint-{ckpt}/test_easy_answers5_seed2.npy\")"
   ]
  },
  {
   "cell_type": "code",
   "execution_count": 54,
   "metadata": {},
   "outputs": [
    {
     "name": "stdout",
     "output_type": "stream",
     "text": [
      "0.3584890333062551\n",
      "0.6293257514216084\n",
      "0.012185215272136474\n"
     ]
    }
   ],
   "source": [
    "\n",
    "answer_types_all = []\n",
    "answers_all = []\n",
    "for i in range(len(samples)):\n",
    "    answer_types = []\n",
    "    answers = []\n",
    "    for item in samples[i]:\n",
    "        answers.append(item)\n",
    "        answer_type = answer_type_individial(item, eval_answers[i])\n",
    "        answer_types.append(answer_type)\n",
    "    answer_types_all.append(answer_types)\n",
    "    answers_all.append(answers)\n",
    "\n",
    "answer_types_all = np.array(answer_types_all)\n",
    "answers_all = np.array(answers_all)\n",
    "print((answer_types_all==0).mean(axis=-1).mean())\n",
    "print((answer_types_all==1).mean(axis=-1).mean())\n",
    "print((answer_types_all==2).mean(axis=-1).mean())"
   ]
  },
  {
   "cell_type": "code",
   "execution_count": null,
   "metadata": {},
   "outputs": [],
   "source": []
  },
  {
   "cell_type": "code",
   "execution_count": 46,
   "metadata": {},
   "outputs": [
    {
     "name": "stdout",
     "output_type": "stream",
     "text": [
      "0.269374492282697\n",
      "0.7171405361494719\n",
      "0.013484971567831032\n"
     ]
    }
   ],
   "source": [
    "from is_eq import is_equiv\n",
    "\n",
    "def last_boxed_only_string(string):\n",
    "    idx = string.rfind(\"\\\\boxed\")\n",
    "    if idx < 0:\n",
    "        idx = string.rfind(\"\\\\fbox\")\n",
    "        if idx < 0:\n",
    "            return None\n",
    "    i = idx\n",
    "    right_brace_idx = None\n",
    "    num_left_braces_open = 0\n",
    "    while i < len(string):\n",
    "        if string[i] == \"{\":\n",
    "            num_left_braces_open += 1\n",
    "        if string[i] == \"}\":\n",
    "            num_left_braces_open -= 1\n",
    "            if num_left_braces_open == 0:\n",
    "                right_brace_idx = i\n",
    "                break\n",
    "        i += 1\n",
    "    \n",
    "    if right_brace_idx == None:\n",
    "        retval = None\n",
    "    else:\n",
    "        retval = string[idx:right_brace_idx + 1]\n",
    "    \n",
    "    return retval\n",
    "\n",
    "def remove_boxed(s):\n",
    "    left = \"\\\\boxed{\"\n",
    "    try:\n",
    "        assert s[:len(left)] == left\n",
    "        assert s[-1] == \"}\"\n",
    "        return s[len(left):-1]\n",
    "    except:\n",
    "        return None\n",
    "\n",
    "def get_aug_answer(full_answer):\n",
    "    answer_phrases = [\"FINAL ANSWER\", \"answer is\", \"ANSWER\", \"Final Answer\", \"is:\", \"Answer\", \"answer\"]\n",
    "    \n",
    "    for answer in answer_phrases:\n",
    "        idx = full_answer.rfind(answer)\n",
    "        if idx != -1:\n",
    "            answer = full_answer[idx + len(answer):]\n",
    "            answer = answer.replace(\":\", \"\").replace(\"$\", \"\").replace(\"\\n\", \"\").strip()\n",
    "            if len(answer)> 0:\n",
    "                if answer[-1] == \".\":\n",
    "                    answer = answer[:-1]\n",
    "                left = \"\\\\boxed{\"\n",
    "                if answer[:len(left)] == left and answer[-1] == \"}\":\n",
    "                    answer = answer[len(left):-1]\n",
    "            return answer \n",
    "    return None\n",
    "\n",
    "def answer_type_individial(output , answer):\n",
    "    # if args.eval_type == \"test\" or args.eval_type == \"train\" or args.eval_type == \"test_small\":\n",
    "    #     answer = remove_boxed(last_boxed_only_string(answer))\n",
    "    # else:\n",
    "    #     answer = get_aug_answer(answer)\n",
    "    answer = remove_boxed(last_boxed_only_string(answer))\n",
    "    output_answer = remove_boxed(last_boxed_only_string(output))\n",
    "    if output_answer == None:\n",
    "        output_answer = get_aug_answer(output)\n",
    "\n",
    "    if output_answer is not None:\n",
    "        \n",
    "        eqiv = is_equiv(answer, output_answer, verbose=False)\n",
    "\n",
    "        if eqiv:\n",
    "            answer_type = 0\n",
    "        else:\n",
    "            answer_type = 1\n",
    "    else:\n",
    "        answer_type = 2\n",
    "    return answer_type\n",
    "\n"
   ]
  },
  {
   "cell_type": "code",
   "execution_count": 36,
   "metadata": {},
   "outputs": [
    {
     "name": "stdout",
     "output_type": "stream",
     "text": [
      " = \\frac{13}{2}.$$At\n",
      "approximately 0.867.\n",
      " 3^{\\frac{2}{6}} = 3\n",
      "\n",
      "   \\]\n",
      "Given $x = z$\n",
      "rkers are needed.\n",
      "30\n",
      "e equation is **0**.\n",
      "he expression is 16.\n",
      "x = 4.8 - 3 = 1.8\n",
      "  \n",
      "numbers are $49$ and\n",
      "lue of \\(x\\) is 5.\n",
      "5\n",
      "approximately:\n",
      "4.595\n",
      " sequence is **11**.\n",
      "the sombrero is $10.\n",
      "\\(xy\\) is \\(20\\).\n",
      "20\n",
      "s approximately:\n",
      "5.3\n",
      "25}\\right) + 24 - 16\n",
      "{8}\\right) + 12 = 15\n",
      " Figure 5 is **20**.\n",
      "sion:\n",
      "\\[\n",
      "3n^2 - 8\n",
      "\\]\n",
      " 2\\),\n",
      "    \\[\n",
      "    z =\n",
      "-22x - 10z + \\frac{7\n",
      " = \\frac{8}{3} l \\]\n",
      "\n",
      "h the quarters:\n",
      "   \\\n",
      "textbf{Done.} \\]1/15\n",
      " by 10,000 is **1**.\n",
      "4, 6, 8, 10, 12\n",
      "This\n",
      ") = (2 \\times 1) + (\n",
      "Therefore, $n = 52$.\n",
      "}{3}\\\\\n",
      "&=\\dbinom{4}{\n",
      "! ( -> Sum of digits\n",
      "{1}{2} \\cdot (AB) =\\\n",
      "r angle:\n",
      "100 degrees\n",
      " = \\frac{1}{2}$.\n",
      "0.5\n",
      " degrees is 0.5.\n",
      "0.5\n",
      "x + 18 = 20 \\]\n",
      "\\[ 2x\n",
      "pproximately:\n",
      "45.312\n",
      "\\]\n",
      "cubic decimeters.\n",
      "pproximately:\n",
      "0.7809\n",
      " an arithmetic value\n",
      "value of $x$ is 140.\n",
      " \\frac{1}{2} \\).\n",
      "0.5\n",
      "\\circ - \\frac{x}{2}\\\n",
      "20}} \\]\n",
      "\\[ R = \\frac\n",
      "asures:\n",
      "300 degrees.\n",
      "**84** square units.\n",
      "ly:\n",
      "- We correct our\n",
      "he approximation:\n",
      "\\[\n",
      " + 2y^3) + x^3 y^3 =\n",
      "715 + d = 715 + 60.5\n",
      "n function is **4**.\n",
      "|w| = \\frac{65}{169}\n",
      "2 of roots is 5:\n",
      "\\[\n",
      "\n",
      "her using the sum of\n",
      "[\n",
      "f(9) = |9-9| + |9-\n",
      "er \\(n = -1\\):\n",
      "\\[ (-\n",
      "ch would involve sum\n",
      "ead, they cancel out\n",
      "\\sqrt{5}}{1 + \\sqrt{\n",
      ",$ and $a_{17} = a_{\n",
      "1+a_1=2$. Since this\n",
      "proximately:\n",
      "20.1111\n",
      " C + D \\equiv 6x^2 +\n",
      " - 629 + 631 - 633 +\n",
      "sum evaluates to:\n",
      "0.\n",
      "e this value:\n",
      "\\[ |z|\n",
      "E\",(-5,0),W);\n",
      "[/asy]\n",
      " is not zero, so $c$\n",
      "015 = 1\n",
      "\\]\n",
      "\\[\n",
      "2015 -\n",
      "4 = 60483900160001 \\\n",
      "0^2) + 990^2 = 1990^\n",
      "lfills the condition\n",
      "\\quad \\text{mod} \\, \n",
      "a_4 + a_5 + a_6 + a_\n",
      "- c)} + \\frac{(x - a\n",
      "he x-axis is **AB**.\n",
      "b}{1 -2b}} = 2 \\sqrt\n",
      "- \\(a_{20} = (a_{19}\n",
      "{35} = S_{34} + 5 = \n",
      "= 263$,\n",
      "- $S_{37} = \n",
      "6$\n",
      "- $S_{27} = 126 +\n",
      "action is simply:\n",
      "1.\n",
      "\\cdot 2^\\frac{5}{3})\n",
      "rect value under the\n",
      "1 \\neq 0 \\]\n",
      "Thus, \\(\n",
      "al solutions exist.\n",
      "\n",
      " was on a Wednesday.\n",
      " 46**: Formed by the\n",
      "5 + 17.00 = 34.05 \\)\n",
      "s, $\\fbox{12} = 12$.\n",
      " $M + N$ is 112.\n",
      "112\n",
      "try 4: 484 has $4+8+\n",
      " which factors as $7\n",
      "q + r\\):\n",
      "\\[\n",
      "(48 + 49\n",
      "rms:\n",
      "\\[ 2*19*17 = 2*\n",
      "f \\(5^{2005}\\) is 0.\n",
      "ers is therefore:\n",
      "8.\n",
      "or good measure:\n",
      "248\n",
      "vided by 10 is 0).\n",
      "0\n",
      "37}{500}\\) is **4**.\n",
      " 2005^2 \\cdot 2005^3\n",
      "= -252 \\equiv 146 \\p\n",
      " \\ \\ \\ \\ \\ 2 \\\\\n",
      "&\\ \\\n",
      "equence is **1.25**.\n",
      "rime)\n",
      "This case does\n",
      " n = 4 \\):\n",
      "\\[ 4^3 - \n",
      ".\n",
      "- \\(k=3\\), \\(r=17\\\n",
      "ot 5^7}{10^7 \\cdot 5\n",
      "{13} - 17 \\) is 0.\n",
      "0\n",
      "295 = 882 \\).\n",
      "- \\( k\n",
      "esult:\n",
      "\\[ 72^{15} \\]\n",
      "40, 1545, 1550, 1555\n",
      "alid digit:\n",
      "Sum = 4.\n",
      "\\) of 9000 is 45.\n",
      "45\n",
      "6,2573,2580,2587,259\n",
      "of \\( x \\) is **9**.\n",
      "eral $PTRS$ is $12.$\n",
      " \\frac{2}{3} \\).\n",
      "2/3\n",
      "en numbers is 10.\n",
      "10\n",
      "74, and 75 is 75.\n",
      "75\n",
      " is therefore 80.\n",
      "80\n",
      "rac{11}{15}\\).\n",
      "11/15\n",
      " decimal is 4.5.\n",
      "4.5\n",
      " \\(5^2\\) is \\(7\\).\n",
      "7\n",
      "rac{1}{6}$ yards.\n",
      "78\n",
      ", b = 5, c = 6, d = \n",
      "culated to be 15.\n",
      "15\n",
      "tal Perimeter = 110 \n",
      "est angle is \\(84\\).\n",
      "hbf{b}) \\times \\math\n",
      "ix} 7 \\\\ 1 \\\\ 1 \\end\n",
      " 0 \\end{pmatrix} = \\\n",
      " - (b \\cdot c) &= (a\n",
      "ct due to persistent\n",
      "original expression.\n",
      "} = \\frac{162\\sqrt{2\n",
      "e^{-2 \\pi i/3}}.\\]At\n",
      "\n",
      "Now calculating:\n",
      "\\[\n",
      " = 64 + 81 = 145.\\]\n",
      "\n",
      "x = 1 + \\frac{1}{1 -\n",
      "$  This gives $x = \\\n",
      " \\cos \\frac{2 \\pi}{7\n",
      ",1,1)--(1,0,1)--(0.5\n",
      "z x = \\frac{\\log_y z\n",
      "ab + 2 ab + 2 ab + 2\n",
      "= \\sqrt{7} \\left\\| \\\n",
      " the final product:\n",
      "\n",
      "2 \\theta.$\n",
      "\n",
      "If $\\sin\n",
      "t( \\frac{10 \\pi}{15}\n",
      "applying the product\n",
      "{a} \\times \\mathbf{b\n",
      "rac{\\sin 18^\\circ}{\\\n",
      "\\frac{1}{2} \\mathbf{\n"
     ]
    }
   ],
   "source": [
    "for answer in answers_all.flatten()[np.where(answer_types_all.flatten()==2)[0]]:\n",
    "    print(answer[-20:])"
   ]
  },
  {
   "cell_type": "code",
   "execution_count": 10,
   "metadata": {},
   "outputs": [
    {
     "data": {
      "text/plain": [
       "\" Let's define the weights of treeks, squigs, and goolees as \\\\( t \\\\) (treek weight), \\\\( s \\\\) (squig weight), and \\\\( g \\\\) (goolee weight) respectively. We are given two equations based on the problem:\\n1. \\\\( 10t = 3s + g \\\\)\\n2. \\\\( 2t + g = s \\\\)\\nWe need to find an expression for \\\\( s \\\\) in terms of \\\\( t \\\\) and \\\\( g \\\\), i.e., \\\\( s = ? \\\\). To do this, we will manipulate the given equations.\\nStart with the second equation:\\n\\\\[ 2t + g = s \\\\]\\nFrom this, we solve for \\\\( g \\\\):\\n\\\\[ g = s - 2t \\\\]\\nNow substitute \\\\( g \\\\) from this equation into the first equation:\\n\\\\[ 10t = 3s + (s - 2t) \\\\]\\n\\\\[ 10t = 4s - 6t \\\\]\\nAdd \\\\( 6t \\\\) to both sides to get all the \\\\( t \\\\) terms on one side:\\n\\\\[ 16t = 4s \\\\]\\nNow solve for \\\\( s \\\\):\\n\\\\[ s = \\\\frac{16t}{4} \\\\]\\n\\\\[ s = 4t \\\\]\\nThus, the weight of one squig in terms of treek weight is \\\\( 4t \\\\).\\nFINAL ANSWER:\\n4\""
      ]
     },
     "execution_count": 10,
     "metadata": {},
     "output_type": "execute_result"
    }
   ],
   "source": [
    "np.load(\"ckpts/math_amrith_easy_instruct_3epochs_3copies_lr2e-05_bs128/checkpoint-327/test_easy_answers5_seed2.npy\").flatten()[47]"
   ]
  },
  {
   "cell_type": "code",
   "execution_count": 8,
   "metadata": {},
   "outputs": [
    {
     "data": {
      "text/plain": [
       "' The graph of $y=\\\\frac{2}{x^2+x-6}$ has vertical asymptotes where the denominator is equal to zero, which is at $x=\\\\pm\\\\sqrt{6-2}=\\\\pm\\\\sqrt{4}=2,-2$. So there are $\\\\boxed{2}$ asymptotes.\\nFINAL ANSWER:\\n2'"
      ]
     },
     "execution_count": 8,
     "metadata": {},
     "output_type": "execute_result"
    }
   ],
   "source": [
    "np.load(\"ckpts/math_amrith_easy_instruct_3epochs_3copies_lr2e-05_bs128/checkpoint-327/test_easy_answers5_seed2.npy\").flatten()[0]"
   ]
  },
  {
   "cell_type": "code",
   "execution_count": 23,
   "metadata": {},
   "outputs": [
    {
     "name": "stderr",
     "output_type": "stream",
     "text": [
      "/data/katie_kang/miniconda3/envs/trlx2/lib/python3.9/site-packages/datasets/load.py:1461: FutureWarning: The repository for hendrycks/competition_math contains custom code which must be executed to correctly load the dataset. You can inspect the repository content at https://hf.co/datasets/hendrycks/competition_math\n",
      "You can avoid this message in future by passing the argument `trust_remote_code=True`.\n",
      "Passing `trust_remote_code=True` will be mandatory to load this dataset from the next major release of `datasets`.\n",
      "  warnings.warn(\n"
     ]
    }
   ],
   "source": [
    "def get_level(level_str):\n",
    "    if level_str[-1] == \"?\":\n",
    "        return -1 \n",
    "    else:\n",
    "        return int(level_str[-1])\n",
    "\n",
    "dataset = load_dataset(\"hendrycks/competition_math\")\n",
    "test_questions = np.array(dataset[\"test\"][\"problem\"])\n",
    "test_answers = np.array(dataset[\"test\"]['solution'])\n",
    "test_levels_orig = np.array(dataset[\"test\"]['level'])\n",
    "test_levels_orig = np.array(list(map(get_level, test_levels_orig)))\n",
    "test_easy_idxs = np.where((test_levels_orig>=1)*(test_levels_orig<=3))[0]"
   ]
  },
  {
   "cell_type": "code",
   "execution_count": 33,
   "metadata": {},
   "outputs": [],
   "source": [
    "subsample_idxs = np.where(test_levels_orig[test_easy_idxs]==2)[0]"
   ]
  },
  {
   "cell_type": "code",
   "execution_count": 5,
   "metadata": {},
   "outputs": [
    {
     "name": "stdout",
     "output_type": "stream",
     "text": [
      "checkpoint-81\n",
      "checkpoint-162\n",
      "checkpoint-327\n",
      "checkpoint-657\n",
      "checkpoint-1149\n",
      "checkpoint-1641\n",
      "checkpoint-81\n",
      "checkpoint-162\n",
      "checkpoint-327\n",
      "checkpoint-657\n",
      "checkpoint-984\n",
      "checkpoint-1149\n",
      "checkpoint-162\n",
      "checkpoint-327\n",
      "checkpoint-657\n",
      "checkpoint-984\n",
      "checkpoint-1149\n",
      "checkpoint-162\n",
      "checkpoint-327\n",
      "checkpoint-657\n",
      "checkpoint-984\n",
      "checkpoint-1149\n"
     ]
    },
    {
     "data": {
      "text/plain": [
       "<matplotlib.legend.Legend at 0x785cdcb76d90>"
      ]
     },
     "execution_count": 5,
     "metadata": {},
     "output_type": "execute_result"
    },
    {
     "data": {
      "image/png": "[encoded data removed]",
      "text/plain": [
       "<Figure size 640x480 with 1 Axes>"
      ]
     },
     "metadata": {},
     "output_type": "display_data"
    }
   ],
   "source": [
    "# import matplotlib as mpl\n",
    "# import matplotlib.font_manager as font_manager\n",
    "\n",
    "# mpl.rcParams['font.family']='serif'\n",
    "# cmfont = font_manager.FontProperties(fname=mpl.get_data_path() + '/fonts/ttf/cmr10.ttf')\n",
    "# mpl.rcParams['font.serif']=cmfont.get_name()\n",
    "# mpl.rcParams['mathtext.fontset']='cm'\n",
    "# mpl.rcParams['axes.unicode_minus']=False\n",
    "# import matplotlib.pyplot as plt\n",
    "\n",
    "from palettable.cartocolors.qualitative import Vivid_4\n",
    "palette = 'CMRmap'\n",
    "\n",
    "from palettable.tableau import GreenOrange_6\n",
    "\n",
    "\n",
    "plt.rcParams.update({\n",
    "    'font.family': 'serif',\n",
    "    'font.serif': 'DejaVu Serif',\n",
    "})\n",
    "\n",
    "accs_orig = []\n",
    "num_expls_all = []\n",
    "for num_copies in [ 0, 1, 3, 7, 13, 19]:\n",
    "    \n",
    "    file_name = f\"math_amrith_easy_deepseek_3epochs_{num_copies}copies_lr2e-05_bs128\"\n",
    "    ckpts = sorted([\n",
    "    f for f in os.listdir(\"ckpts/\"+file_name) if os.path.isdir(os.path.join(\"ckpts/\"+file_name, f))\n",
    "    ], key=lambda x: int(x.split('-')[1]))\n",
    "    print(ckpts[-1])\n",
    "    try:\n",
    "        acc = (np.load(f\"ckpts/{file_name}/{ckpts[-1]}/test_answer_types5_seed2.npy\")==0)[:, :].mean()\n",
    "    except:\n",
    "        try:\n",
    "            acc = (np.load(f\"ckpts/{file_name}/{ckpts[-1]}/test_answer_types20_seed2_temp0.8.npy\")==0)[:, :].mean()\n",
    "        except:\n",
    "            try:\n",
    "                acc = (np.load(f\"ckpts/{file_name}/{ckpts[-1]}/test_easy_answer_types5_seed2.npy\")==0)[:, :].mean()\n",
    "            except:\n",
    "                acc = (np.load(f\"ckpts/{file_name}/{ckpts[-1]}/test_easy_answer_types5_seed4.npy\")==0)[:, :].mean()\n",
    "\n",
    "    num_expls = 3504 + num_copies*3504\n",
    "    num_expls_all.append(num_expls)\n",
    "    accs_orig.append(acc)\n",
    "    \n",
    "\n",
    "\n",
    "plt.plot(2**np.log2(num_expls_all), np.array(accs_orig), \"o-\", label = \"IID\", linewidth=2, alpha=1, markersize=8,zorder=50, color=GreenOrange_6.mpl_colors[0])\n",
    "\n",
    "# plt.plot(2**np.log2(num_expls_all), np.array(accs_orig), \"o-\", linewidth=4, alpha=0.3, markersize=10)\n",
    "# plt.scatter(2**np.log2(num_expls_all), np.array(accs_orig), label = \"IID\", linewidth=4, alpha=0.8, s=40)\n",
    "\n",
    "\n",
    "accs = []\n",
    "num_expls_all = []\n",
    "for num_copies in [0,   1, 2, 3, 4, 5]:\n",
    "    file_name = \"0copies\"\n",
    "    for j in range(num_copies):\n",
    "        file_name = \"prev{\"+file_name+\"}\"\n",
    "    # if num_copies == 4:\n",
    "    #     file_name = f\"math_amrith_easy_deepseek_3epochs_\"+file_name+\"_lr2e-05_bs128_6more\"\n",
    "    # else:\n",
    "    file_name = f\"math_amrith_easy_deepseek_3epochs_\"+file_name+\"_lr2e-05_bs128\"\n",
    "    ckpts = sorted([\n",
    "    f for f in os.listdir(\"ckpts/\"+file_name) if os.path.isdir(os.path.join(\"ckpts/\"+file_name, f))\n",
    "    ], key=lambda x: int(x.split('-')[1]))\n",
    "    print(ckpts[-1])\n",
    "    try:\n",
    "        acc = (np.load(f\"ckpts/{file_name}/{ckpts[-1]}/test_answer_types5_seed2.npy\")==0)[:, :].mean()\n",
    "    except:\n",
    "        try:\n",
    "            acc = (np.load(f\"ckpts/{file_name}/{ckpts[-1]}/test_answer_types20_seed2_temp0.8.npy\")==0)[:, :].mean()\n",
    "        except:\n",
    "            acc = (np.load(f\"ckpts/{file_name}/{ckpts[-1]}/test_easy_answer_types5_seed2.npy\")==0)[:, :].mean()\n",
    "\n",
    "\n",
    "    additional_examples = np.load(f\"ckpts/{file_name}/amrith_easy_data_subsample_idxs.npy\")\n",
    "    num_expls = 3504 + len(additional_examples)\n",
    "    num_expls_all.append(num_expls)\n",
    "    accs.append(acc)\n",
    "\n",
    "plt.plot(2**np.log2(num_expls_all), np.array(accs), \"o-\", label = \"Ours\", linewidth=2, alpha=1, markersize=8, zorder=50, color=GreenOrange_6.mpl_colors[1])\n",
    "\n",
    "# plt.plot(2**np.log2(num_expls_all), np.array(accs), \"o-\", linewidth=4, alpha=0.3, markersize=10)\n",
    "# plt.scatter(2**np.log2(num_expls_all), np.array(accs), label = \"Ours\", linewidth=4, alpha=0.8, s=40)\n",
    "\n",
    "accs = [accs_orig[0]]\n",
    "num_expls_all = [3504]\n",
    "for num_copies in [ 1, 3, 7, 11, 13]:\n",
    "    \n",
    "    file_name = f\"math_amrith_easy_deepseek_ifd_3epochs_{num_copies}copies_25percentile_lr2e-05_bs128\"\n",
    "    ckpts = sorted([\n",
    "    f for f in os.listdir(\"ckpts/\"+file_name) if os.path.isdir(os.path.join(\"ckpts/\"+file_name, f))\n",
    "    ], key=lambda x: int(x.split('-')[1]))\n",
    "    print(ckpts[-1])\n",
    "    try:\n",
    "        acc = (np.load(f\"ckpts/{file_name}/{ckpts[-1]}/test_answer_types5_seed2.npy\")==0)[:, :].mean()\n",
    "    except:\n",
    "        try:\n",
    "            acc = (np.load(f\"ckpts/{file_name}/{ckpts[-1]}/test_answer_types20_seed2_temp0.8.npy\")==0)[:, :].mean()\n",
    "        except:\n",
    "            try:\n",
    "                acc = (np.load(f\"ckpts/{file_name}/{ckpts[-1]}/test_easy_answer_types5_seed2.npy\")==0)[:, :].mean()\n",
    "            except:\n",
    "                acc = (np.load(f\"ckpts/{file_name}/{ckpts[-1]}/test_easy_answer_types5_seed4.npy\")==0)[:, :].mean()\n",
    "\n",
    "    num_expls = 3504 + num_copies*3504\n",
    "    num_expls_all.append(num_expls)\n",
    "    accs.append(acc)\n",
    "\n",
    "\n",
    "plt.plot(2**np.log2(num_expls_all), np.array(accs), \"o-\", label = \"IFD\", linewidth=2, alpha=1, markersize=8, color=GreenOrange_6.mpl_colors[2])\n",
    "# plt.plot(2**np.log2(num_expls_all), np.array(accs), \"o-\", linewidth=4, alpha=0.3, markersize=10)\n",
    "# plt.scatter(2**np.log2(num_expls_all), np.array(accs), label = \"IFD\", linewidth=4, alpha=0.8, s=40)\n",
    "\n",
    "\n",
    "accs = [accs_orig[0]]\n",
    "num_expls_all = [3504]\n",
    "for num_copies in [ 1, 3, 7, 11, 13]:\n",
    "    \n",
    "    file_name = f\"math_amrith_easy_deepseek_huer_3epochs_{num_copies}copies_25percentile_lr2e-05_bs128\"\n",
    "    ckpts = sorted([\n",
    "    f for f in os.listdir(\"ckpts/\"+file_name) if os.path.isdir(os.path.join(\"ckpts/\"+file_name, f))\n",
    "    ], key=lambda x: int(x.split('-')[1]))\n",
    "    print(ckpts[-1])\n",
    "    try:\n",
    "        acc = (np.load(f\"ckpts/{file_name}/{ckpts[-1]}/test_answer_types5_seed2.npy\")==0)[:, :].mean()\n",
    "    except:\n",
    "        try:\n",
    "            acc = (np.load(f\"ckpts/{file_name}/{ckpts[-1]}/test_answer_types20_seed2_temp0.8.npy\")==0)[:, :].mean()\n",
    "        except:\n",
    "            try:\n",
    "                acc = (np.load(f\"ckpts/{file_name}/{ckpts[-1]}/test_easy_answer_types5_seed2.npy\")==0)[:, :].mean()\n",
    "            except:\n",
    "                acc = (np.load(f\"ckpts/{file_name}/{ckpts[-1]}/test_easy_answer_types5_seed4.npy\")==0)[:, :].mean()\n",
    "\n",
    "    num_expls = 3504 + num_copies*3504\n",
    "    num_expls_all.append(num_expls)\n",
    "    accs.append(acc)\n",
    "\n",
    "plt.plot(2**np.log2(num_expls_all), np.array(accs), \"o-\", label = \"Hueristic\", linewidth=2, alpha=1, markersize=8,  color=([1        , 0.75098039, 0.00019608]))\n",
    "\n",
    "# plt.plot(2**np.log2(num_expls_all), np.array(accs), \"o-\", linewidth=4, alpha=0.3, markersize=10)\n",
    "# plt.scatter(2**np.log2(num_expls_all), np.array(accs), label = \"Hueristic\", linewidth=4, alpha=0.8, s=40)\n",
    "\n",
    "# plt.legend()\n",
    "# plt.title(\"MATH\")\n",
    "# plt.savefig(\"delete.png\")\n",
    "\n",
    "plt.xlabel(\"Number of Train Examples\", fontsize=15)\n",
    "\n",
    "plt.ylabel(\"Test Accuracy\", fontsize=15)\n",
    "# plt.legend()\n",
    "plt.title(\"MATH Levels 1-3 / DeepSeekMath 7B\", fontsize=20)\n",
    "\n",
    "plt.xticks([0, 20000, 40000, 60000,], fontsize=15)\n",
    "plt.yticks([0.42, 0.46, 0.5, 0.54], fontsize=15)\n",
    "plt.ylim(0.4, 0.55)\n",
    "plt.xlim(-5000, 80000)\n",
    "\n",
    "plt.gca().spines['top'].set_linewidth(1)\n",
    "plt.gca().spines['right'].set_linewidth(1)\n",
    "plt.gca().spines['bottom'].set_linewidth(1)\n",
    "plt.gca().spines['left'].set_linewidth(1)\n",
    "plt.tick_params(width=1, length=4)\n",
    "\n",
    "\n",
    "# plt.rcParams.update({\n",
    "#     'family':'serif',\n",
    "#     'serif':['Computer Modern Roman']\n",
    "# })\n",
    "\n",
    "# add legend to right side\n",
    "\n",
    "plt.legend(loc='center left', bbox_to_anchor=(1, 0.5), fontsize=12)"
   ]
  },
  {
   "cell_type": "code",
   "execution_count": 32,
   "metadata": {},
   "outputs": [],
   "source": [
    "import seaborn as sns"
   ]
  },
  {
   "cell_type": "code",
   "execution_count": 34,
   "metadata": {},
   "outputs": [
    {
     "data": {
      "text/plain": [
       "(0.12156862745098039, 0.4666666666666667, 0.7058823529411765)"
      ]
     },
     "execution_count": 34,
     "metadata": {},
     "output_type": "execute_result"
    }
   ],
   "source": [
    "sns.color_palette()[0]"
   ]
  },
  {
   "cell_type": "code",
   "execution_count": 55,
   "metadata": {},
   "outputs": [
    {
     "data": {
      "text/plain": [
       "array([1.        , 0.85098039, 0.29019608])"
      ]
     },
     "execution_count": 55,
     "metadata": {},
     "output_type": "execute_result"
    }
   ],
   "source": [
    "np.array(GreenOrange_6.mpl_colors[3])"
   ]
  },
  {
   "cell_type": "code",
   "execution_count": 44,
   "metadata": {},
   "outputs": [
    {
     "data": {
      "text/plain": [
       "[(0.19607843137254902, 0.6352941176470588, 0.3176470588235294),\n",
       " (1.0, 0.4980392156862745, 0.058823529411764705),\n",
       " (0.23529411764705882, 0.7176470588235294, 0.8),\n",
       " (1.0, 0.8509803921568627, 0.2901960784313726),\n",
       " (0.2235294117647059, 0.45098039215686275, 0.48627450980392156),\n",
       " (0.7215686274509804, 0.35294117647058826, 0.050980392156862744)]"
      ]
     },
     "execution_count": 44,
     "metadata": {},
     "output_type": "execute_result"
    }
   ],
   "source": [
    "GreenOrange_6.mpl_colors"
   ]
  },
  {
   "cell_type": "code",
   "execution_count": 136,
   "metadata": {},
   "outputs": [
    {
     "data": {
      "text/plain": [
       "array([0.05004062, 0.02591389, 0.01844029])"
      ]
     },
     "execution_count": 136,
     "metadata": {},
     "output_type": "execute_result"
    }
   ],
   "source": [
    "accs = np.array(accs)\n",
    "\n",
    "accs[1:] - accs[:-1]"
   ]
  },
  {
   "cell_type": "code",
   "execution_count": 13,
   "metadata": {},
   "outputs": [],
   "source": [
    "file_name = \"math_amrith_easy_3epochs_prev{prev{prev{0copies}}}_lr2e-05_bs128\"\n",
    "additional_examples = np.load(f\"ckpts/{file_name}/amrith_easy_data_subsample_idxs.npy\")"
   ]
  },
  {
   "cell_type": "code",
   "execution_count": 18,
   "metadata": {},
   "outputs": [],
   "source": [
    "file_name = \"math_amrith_easy_3epochs_prev{prev{0copies}}_lr2e-05_bs128\"\n",
    "unmemorized_acc_cummax_all = np.load(f\"ckpts/{file_name}/unmemorized_acc_cummax_all.npy\")"
   ]
  },
  {
   "cell_type": "code",
   "execution_count": 20,
   "metadata": {},
   "outputs": [
    {
     "data": {
      "text/plain": [
       "array([0.6, 0.7, 0.1, ..., 0.7, 0.7, 0.1])"
      ]
     },
     "execution_count": 20,
     "metadata": {},
     "output_type": "execute_result"
    }
   ],
   "source": [
    "unmemorized_acc_cummax_all[-1][additional_examples%3504]"
   ]
  },
  {
   "cell_type": "code",
   "execution_count": 25,
   "metadata": {},
   "outputs": [
    {
     "data": {
      "text/plain": [
       "(array([   0., 6950., 3357., 2605., 2312., 2016., 1981., 2081., 1956.,\n",
       "         514.,  375.,  381.]),\n",
       " array([-0.15, -0.05,  0.05,  0.15,  0.25,  0.35,  0.45,  0.55,  0.65,\n",
       "         0.75,  0.85,  0.95,  1.05]),\n",
       " <BarContainer object of 12 artists>)"
      ]
     },
     "execution_count": 25,
     "metadata": {},
     "output_type": "execute_result"
    },
    {
     "data": {
      "image/png": "[encoded data removed]",
      "text/plain": [
       "<Figure size 640x480 with 1 Axes>"
      ]
     },
     "metadata": {},
     "output_type": "display_data"
    }
   ],
   "source": [
    "plt.hist(unmemorized_acc_cummax_all[-1][additional_examples%3504], np.arange(-0.1, 1.1, 0.1)-0.05)"
   ]
  },
  {
   "cell_type": "code",
   "execution_count": 26,
   "metadata": {},
   "outputs": [
    {
     "data": {
      "text/plain": [
       "(array([  0., 770., 367., 290., 260., 229., 229., 239., 235., 252., 249.,\n",
       "        384.]),\n",
       " array([-0.15, -0.05,  0.05,  0.15,  0.25,  0.35,  0.45,  0.55,  0.65,\n",
       "         0.75,  0.85,  0.95,  1.05]),\n",
       " <BarContainer object of 12 artists>)"
      ]
     },
     "execution_count": 26,
     "metadata": {},
     "output_type": "execute_result"
    },
    {
     "data": {
      "image/png": "[encoded data removed]",
      "text/plain": [
       "<Figure size 640x480 with 1 Axes>"
      ]
     },
     "metadata": {},
     "output_type": "display_data"
    }
   ],
   "source": [
    "plt.hist(unmemorized_acc_cummax_all[-1], np.arange(-0.1, 1.1, 0.1)-0.05)"
   ]
  },
  {
   "cell_type": "code",
   "execution_count": 9,
   "metadata": {},
   "outputs": [
    {
     "data": {
      "text/plain": [
       "3504.0"
      ]
     },
     "execution_count": 9,
     "metadata": {},
     "output_type": "execute_result"
    }
   ],
   "source": [
    "len(additional_examples)/7"
   ]
  },
  {
   "cell_type": "code",
   "execution_count": 3,
   "metadata": {},
   "outputs": [],
   "source": [
    "\n",
    "def get_stats(train_name):\n",
    "    train_accs_all = []\n",
    "    perplexities_all = []\n",
    "\n",
    "\n",
    "    ckpts = sorted([\n",
    "    f for f in os.listdir(\"ckpts/\"+train_name) if os.path.isdir(os.path.join(\"ckpts/\"+train_name, f))\n",
    "    ], key=lambda x: int(x.split('-')[1]))\n",
    "    # print(ckpts)\n",
    "\n",
    "    for ckpt in ckpts:\n",
    "        try:\n",
    "            train_correct = (np.load(\"ckpts/\"+train_name+\"/\"+ckpt+ \"/train_answer_types5_seed2_temp0.8.npy\")==0)\n",
    "            \n",
    "        except:\n",
    "            try: \n",
    "                train_correct = (np.load(\"ckpts/\"+train_name+\"/\"+ckpt+ \"/train_answer_types50_seed2_temp0.8.npy\")==0)\n",
    "            except: \n",
    "                try:\n",
    "                    train_correct = (np.load(\"ckpts/\"+train_name+\"/\"+ckpt+ \"/train_answer_types10_seed2.npy\")==0)\n",
    "                except:\n",
    "                    train_correct = (np.load(\"ckpts/\"+train_name+\"/\"+ckpt+ \"/train_answer_types5_seed2.npy\")==0)\n",
    "        train_accs = train_correct.mean(axis=-1)\n",
    "        train_accs_all.append(train_accs)\n",
    "        \n",
    "        perplexities = np.load(\"ckpts/\"+train_name+\"/\"+ckpt+ \"/train_perplexities.npy\")\n",
    "        perplexities_all.append(perplexities)\n",
    "        \n",
    "    train_accs_all = np.array(train_accs_all)\n",
    "    perplexities_all = np.array(perplexities_all)\n",
    "    \n",
    "    test_accs_all = []\n",
    "\n",
    "    for ckpt in ckpts:\n",
    "        try:\n",
    "            test_accs = (np.load(\"ckpts/\"+train_name+\"/\"+ckpt+ \"/test_answer_types50_seed2.npy\")==0)\n",
    "        except:\n",
    "            try:\n",
    "                test_accs = (np.load(\"ckpts/\"+train_name+\"/\"+ckpt+ \"/test_answer_types50_seed2_temp0.8.npy\")==0)\n",
    "            except:\n",
    "                try:\n",
    "                    test_accs = (np.load(\"ckpts/\"+train_name+\"/\"+ckpt+ \"/test_answer_types5_seed2_temp0.8.npy\")==0)\n",
    "                except:\n",
    "                    try:\n",
    "                        test_accs = (np.load(\"ckpts/\"+train_name+\"/\"+ckpt+ \"/test_answer_types20_seed2_temp0.8.npy\")==0)\n",
    "                    except:\n",
    "                        test_accs = (np.load(\"ckpts/\"+train_name+\"/\"+ckpt+ \"/test_answer_types5_seed2.npy\")==0)\n",
    "        test_accs_all.append(test_accs)\n",
    "\n",
    "    test_accs_all = np.array(test_accs_all)\n",
    "    \n",
    "    return_dict = {}\n",
    "    return_dict[\"train_accs_all\"] = train_accs_all\n",
    "    return_dict[\"perplexities_all\"] = perplexities_all\n",
    "    return_dict[\"test_accs_all\"] = test_accs_all\n",
    "    \n",
    "    return return_dict\n",
    "\n",
    "\n",
    "\n",
    "\n",
    "def get_ratios2(stats_dict, perp_threshold=-2.4):\n",
    "    train_accs_all = stats_dict[\"train_accs_all\"]\n",
    "    perplexities_all = stats_dict[\"perplexities_all\"]\n",
    "    test_accs_all = stats_dict[\"test_accs_all\"]\n",
    "    \n",
    "    memorization_mask = np.ones(train_accs_all.shape)*-1\n",
    "    accs_all = np.ones(train_accs_all.shape)*-1\n",
    "    \n",
    "    for i in range(len(train_accs_all)):\n",
    "\n",
    "        accs_all[i] =train_accs_all[i]\n",
    "        \n",
    "        memorization_mask[i] = (np.log(np.log((perplexities_all[i]))) >= perp_threshold)\n",
    "    \n",
    "    \n",
    "    \n",
    "    \n",
    "    unmemorized_acc_cummax = np.array([(accs_all*memorization_mask)[:j+1].max(axis=0) for j in range(len(train_accs_all))])\n",
    "    \n",
    "    # print(unmemorized_acc_cummax.shape)\n",
    "    # print(accs_all.shape)\n",
    "    unmemorized_acc_cummax = (np.min([unmemorized_acc_cummax, accs_all], axis=0))\n",
    "    unmemorized_acc_cummax_mean = unmemorized_acc_cummax.mean(axis=1)\n",
    "    \n",
    "\n",
    "    avg_test_acc = test_accs_all.mean(axis=-1).mean(axis=1)\n",
    "    \n",
    "    \n",
    "    \n",
    "    return_dict = {}\n",
    "    \n",
    "    \n",
    "    return_dict[\"unmemorized_acc_cummax\"] = unmemorized_acc_cummax_mean\n",
    "    return_dict[\"unmemorized_acc_cummax_all\"] = unmemorized_acc_cummax\n",
    "\n",
    "    return_dict[\"avg_test_acc\"] = avg_test_acc\n",
    "            \n",
    "    return return_dict\n"
   ]
  },
  {
   "cell_type": "code",
   "execution_count": 14,
   "metadata": {},
   "outputs": [
    {
     "data": {
      "image/png": "[encoded data removed]",
      "text/plain": [
       "<Figure size 640x480 with 1 Axes>"
      ]
     },
     "metadata": {},
     "output_type": "display_data"
    }
   ],
   "source": [
    "file_name = \"math_amrith_3epochs_3copies_lr2e-05_bs24\"\n",
    "plt.hist(np.load(\"ckpts/\"+file_name+\"/unmemorized_acc_cummax_all.npy\")[-1], np.arange(0, 1.2, 0.1)-0.05)\n",
    "plt.savefig(\"delete.png\")"
   ]
  },
  {
   "cell_type": "code",
   "execution_count": 4,
   "metadata": {},
   "outputs": [],
   "source": [
    "file_name = \"math_amrith_3epochs_prev{prev{3copies}}_lr2e-05_bs24\"\n",
    "stats_dict = get_stats(file_name)\n",
    "ratio_dict = get_ratios2(stats_dict, perp_threshold=-1.7)\n",
    "np.save(\"ckpts/\"+file_name+\"/unmemorized_acc_cummax_all.npy\", ratio_dict[\"unmemorized_acc_cummax_all\"])"
   ]
  },
  {
   "cell_type": "code",
   "execution_count": 28,
   "metadata": {},
   "outputs": [],
   "source": [
    "file_name = f\"math_amrith_3epochs_{7}copies_lr2e-05_bs24\"\n",
    "stats_dict = get_stats(file_name)\n",
    "ratio_dict = get_ratios2(stats_dict, perp_threshold=-1.7)\n",
    "np.save(\"ckpts/\"+file_name+\"/unmemorized_acc_cummax_all.npy\", ratio_dict[\"unmemorized_acc_cummax_all\"])"
   ]
  },
  {
   "cell_type": "code",
   "execution_count": 25,
   "metadata": {},
   "outputs": [
    {
     "data": {
      "text/plain": [
       "(array([2989., 1817.,  608.,  588.,  318., 1180.]),\n",
       " array([-0.1,  0.1,  0.3,  0.5,  0.7,  0.9,  1.1]),\n",
       " <BarContainer object of 6 artists>)"
      ]
     },
     "execution_count": 25,
     "metadata": {},
     "output_type": "execute_result"
    },
    {
     "data": {
      "image/png": "[encoded data removed]",
      "text/plain": [
       "<Figure size 640x480 with 1 Axes>"
      ]
     },
     "metadata": {},
     "output_type": "display_data"
    }
   ],
   "source": [
    "\n",
    "stats_dict = get_stats(f\"math_amrith_3epochs_{0}copies_lr2e-05_bs24\")\n",
    "ratio_dict = get_ratios2(stats_dict, perp_threshold=-1.7)\n",
    "plt.hist(ratio_dict[\"unmemorized_acc_cummax_all\"][-1], bins = np.arange(0, 1.4, 0.2)-0.1, alpha=0.5)\n",
    "\n",
    "\n",
    "\n",
    "\n",
    "stats_dict = get_stats(f\"math_amrith_3epochs_{3}copies_lr2e-05_bs24\")\n",
    "ratio_dict = get_ratios2(stats_dict, perp_threshold=-1.7)\n",
    "plt.hist(ratio_dict[\"unmemorized_acc_cummax_all\"][-1], bins = np.arange(0, 1.4, 0.2)-0.1, alpha=0.5)\n",
    "\n",
    "\n",
    "\n",
    "stats_dict = get_stats(f\"math_amrith_3epochs_{7}copies_lr2e-05_bs24\")\n",
    "ratio_dict = get_ratios2(stats_dict, perp_threshold=-1.7)\n",
    "plt.hist(ratio_dict[\"unmemorized_acc_cummax_all\"][-1], bins = np.arange(0, 1.4, 0.2)-0.1, alpha=0.5)"
   ]
  },
  {
   "cell_type": "code",
   "execution_count": 58,
   "metadata": {},
   "outputs": [],
   "source": [
    "\n",
    "import json\n",
    "\n",
    "dataset = load_dataset(\"hendrycks/competition_math\",  trust_remote_code=True)\n",
    "\n",
    "train_questions_orig = np.array(dataset[\"train\"][\"problem\"])\n",
    "train_answers_orig = np.array(dataset[\"train\"]['solution'])\n",
    "train_levels_orig = np.array(dataset[\"train\"]['level'])\n",
    "train_levels_orig = np.array(list(map(get_level, train_levels_orig)))\n",
    "orig_data_easy_idxs = np.where((train_levels_orig>=1)*(train_levels_orig<=3))[0]\n",
    "\n",
    "\n",
    "for i in range(len(train_answers_orig)):\n",
    "    answer = remove_boxed(last_boxed_only_string(train_answers_orig[i]))\n",
    "    train_answers_orig[i] += f\"\\nFINAL ANSWER:\\n{answer}\"\n",
    "\n",
    "train_questions = list(train_questions_orig[orig_data_easy_idxs])\n",
    "train_answers = list(train_answers_orig[orig_data_easy_idxs])\n",
    "\n",
    "\n",
    "with open('ckpts/amrith_math/math_batch_1_outputs_gpt4.jsonl', 'r') as json_file:\n",
    "    json_list = list(json_file) #1\n",
    "with open('ckpts/amrith_math/math_batch_2_outputs_gpt4.jsonl', 'r') as json_file:\n",
    "    json_list += list(json_file) #5\n",
    "with open('ckpts/amrith_math/math_batch_3_outputs_gpt4.jsonl', 'r') as json_file:\n",
    "    json_list += list(json_file) #4\n",
    "with open('ckpts/amrith_math/math_batch_4_outputs_gpt4.jsonl', 'r') as json_file:\n",
    "    json_list += list(json_file) #5\n",
    "with open('ckpts/amrith_math/math_batch_5_outputs_gpt4.jsonl', 'r') as json_file:\n",
    "    json_list += list(json_file) #5\n",
    "\n",
    "train_questions_amrith = []\n",
    "train_answers_amrith = []\n",
    "for json_str in json_list:\n",
    "    result = json.loads(json_str)\n",
    "    train_questions_amrith.append(result[\"query\"])\n",
    "    train_answers_amrith.append(result[\"response\"].replace(\"\\n\\n\", \"\\n\"))\n",
    "\n",
    "num_repeats = len(train_questions_amrith)//len(train_questions_orig)\n",
    "assert(len(train_questions_amrith) == len(train_questions_orig)*num_repeats)\n",
    "amrith_data_orig_idxs = np.tile(np.arange(len(train_questions_orig)), num_repeats)\n",
    "\n",
    "amrith_data_easy_idxs = np.where([elem in orig_data_easy_idxs for elem in amrith_data_orig_idxs])[0]\n"
   ]
  },
  {
   "cell_type": "code",
   "execution_count": 66,
   "metadata": {},
   "outputs": [
    {
     "data": {
      "text/plain": [
       "array(['Let \\\\[g(x) = \\\\left\\\\{\\n\\\\begin{array}{cl} 3x + c, &\\\\text{ if }x > 1, \\\\\\\\\\n2x - 4, &\\\\text{ if } -1 \\\\le x \\\\le 1, \\\\\\\\\\nc - x &\\\\text{ if } x < -1.\\n\\\\end{array}\\n\\\\right.\\\\] Calculate $c$ if the piecewise function is continuous.',\n",
       "       'Consider the piecewise function:\\n\\\\[\\ng(x) = \\\\left\\\\{\\n\\\\begin{array}{cl}\\n5x - c, & \\\\text{if } x > 3, \\\\\\\\\\n2x + 4, & \\\\text{if } 0 \\\\le x \\\\le 3, \\\\\\\\\\n-x + d, & \\\\text{if } x < 0.\\n\\\\end{array}\\n\\\\right.\\n\\\\]\\nDetermine the values of $c+d$ such that the function $g(x)$ is continuous everywhere.',\n",
       "       'Let \\\\[g(y) = \\\\left\\\\{\\n\\\\begin{array}{cl} 3y+c, &\\\\text{ if }y>1, \\\\\\\\\\n2y-4 &\\\\text{ if } -3 \\\\le y \\\\le 1, \\\\\\\\\\n5y-d &\\\\text{ if } y <-3.\\n\\\\end{array}\\n\\\\right.\\\\] Determine $c+d$ if the piecewise function $g(y)$ is continuous.'],\n",
       "      dtype='<U2884')"
      ]
     },
     "execution_count": 66,
     "metadata": {},
     "output_type": "execute_result"
    }
   ],
   "source": [
    "np.array(train_questions_amrith)[[0, 7500, 7500*2]]"
   ]
  },
  {
   "cell_type": "code",
   "execution_count": 68,
   "metadata": {},
   "outputs": [],
   "source": [
    "\n",
    "train_questions_amrith = np.array(train_questions_amrith)[amrith_data_easy_idxs]\n",
    "train_answers_amrith = np.array(train_answers_amrith)[amrith_data_easy_idxs]"
   ]
  },
  {
   "cell_type": "code",
   "execution_count": 70,
   "metadata": {},
   "outputs": [
    {
     "data": {
      "text/plain": [
       "3504"
      ]
     },
     "execution_count": 70,
     "metadata": {},
     "output_type": "execute_result"
    }
   ],
   "source": [
    "len(orig_data_easy_idxs)"
   ]
  },
  {
   "cell_type": "code",
   "execution_count": 71,
   "metadata": {},
   "outputs": [
    {
     "data": {
      "text/plain": [
       "array(['What is the degree of the polynomial $(7x^2 + 3x^5 - 4 + 8 + \\\\pi x^6 + 2\\\\sqrt{5}x^6 + 11)?$',\n",
       "       'What is the degree of the polynomial $(3x^2 + 7 + 4x^5 - \\\\sqrt{3} x^5 + 6x)$?',\n",
       "       'What is the degree of the polynomial $(3x^2 + 7x^5 - 15 + \\\\sqrt{3}x^5 + 8 + 2\\\\pi x)$?'],\n",
       "      dtype='<U2884')"
      ]
     },
     "execution_count": 71,
     "metadata": {},
     "output_type": "execute_result"
    }
   ],
   "source": [
    "train_questions_amrith[[0, 3504, 3504*2]]"
   ]
  },
  {
   "cell_type": "code",
   "execution_count": 119,
   "metadata": {},
   "outputs": [],
   "source": [
    "train_type = \"math_amrith_easy_deepseek_3epochs_prev{prev{prev{prev{0copies}}}}_lr2e-05_bs128\""
   ]
  },
  {
   "cell_type": "code",
   "execution_count": 120,
   "metadata": {},
   "outputs": [
    {
     "name": "stdout",
     "output_type": "stream",
     "text": [
      "math_amrith_easy_deepseek_3epochs_prev{prev{prev{0copies}}}_lr2e-05_bs128\n"
     ]
    }
   ],
   "source": [
    "amrith_data_orig_idxs = np.tile(np.arange(len(orig_data_easy_idxs)), num_repeats)\n",
    "\n",
    "\n",
    "begin_idx = train_type.index(\"prev{\")\n",
    "end_idx = train_type.rindex(\"}\")\n",
    "prev_train_type = train_type[begin_idx+len(\"prev[\"): end_idx]\n",
    "print(f\"math_amrith_easy_deepseek_3epochs_{prev_train_type}_lr2e-05_bs128\")\n",
    "if prev_train_type == \"0copies\":\n",
    "    prev_idxs = np.array([])\n",
    "else:\n",
    "    prev_idxs =  np.load(f\"ckpts/math_amrith_easy_deepseek_3epochs_{prev_train_type}_lr2e-05_bs128/amrith_easy_data_subsample_idxs.npy\")\n",
    "unmemorized_acc_cummax_all = np.load(f\"ckpts/math_amrith_easy_deepseek_3epochs_{prev_train_type}_lr2e-05_bs128/unmemorized_acc_cummax_all.npy\")[-1]\n"
   ]
  },
  {
   "cell_type": "code",
   "execution_count": 77,
   "metadata": {},
   "outputs": [
    {
     "data": {
      "text/plain": [
       "3504"
      ]
     },
     "execution_count": 77,
     "metadata": {},
     "output_type": "execute_result"
    }
   ],
   "source": [
    "len(unmemorized_acc_cummax_all)"
   ]
  },
  {
   "cell_type": "code",
   "execution_count": 107,
   "metadata": {},
   "outputs": [
    {
     "data": {
      "text/plain": [
       "(array([4980., 2426., 2317., 2094., 1728., 2085., 1919., 2223., 1834.,\n",
       "        1788., 1134.]),\n",
       " array([-0.05,  0.05,  0.15,  0.25,  0.35,  0.45,  0.55,  0.65,  0.75,\n",
       "         0.85,  0.95,  1.05]),\n",
       " <BarContainer object of 11 artists>)"
      ]
     },
     "execution_count": 107,
     "metadata": {},
     "output_type": "execute_result"
    },
    {
     "data": {
      "image/png": "[encoded data removed]",
      "text/plain": [
       "<Figure size 640x480 with 1 Axes>"
      ]
     },
     "metadata": {},
     "output_type": "display_data"
    }
   ],
   "source": [
    "plt.hist(unmemorized_acc_cummax_all[prev_idxs%3504], np.arange(0, 1.2, 0.1)-0.05)"
   ]
  },
  {
   "cell_type": "code",
   "execution_count": 108,
   "metadata": {},
   "outputs": [
    {
     "data": {
      "text/plain": [
       "(array([472., 236., 223., 201., 179., 232., 231., 303., 332., 474., 621.]),\n",
       " array([-0.05,  0.05,  0.15,  0.25,  0.35,  0.45,  0.55,  0.65,  0.75,\n",
       "         0.85,  0.95,  1.05]),\n",
       " <BarContainer object of 11 artists>)"
      ]
     },
     "execution_count": 108,
     "metadata": {},
     "output_type": "execute_result"
    },
    {
     "data": {
      "image/png": "[encoded data removed]",
      "text/plain": [
       "<Figure size 640x480 with 1 Axes>"
      ]
     },
     "metadata": {},
     "output_type": "display_data"
    }
   ],
   "source": [
    "plt.hist(unmemorized_acc_cummax_all, np.arange(0, 1.2, 0.1)-0.05)"
   ]
  },
  {
   "cell_type": "code",
   "execution_count": 121,
   "metadata": {},
   "outputs": [],
   "source": [
    "\n",
    "\n",
    "threshold2 = 0.75\n",
    "# threshold2 = 0.5\n",
    "# threshold2 = 0.25\n",
    "new_num_copies = 2\n",
    "\n",
    "amrith_data_subsample_idxs_prev = prev_idxs\n",
    "\n",
    "if len(amrith_data_subsample_idxs_prev)>0:\n",
    "    amrith_data_orig_idxs[amrith_data_subsample_idxs_prev] = -1\n"
   ]
  },
  {
   "cell_type": "code",
   "execution_count": 110,
   "metadata": {},
   "outputs": [
    {
     "data": {
      "text/plain": [
       "24528"
      ]
     },
     "execution_count": 110,
     "metadata": {},
     "output_type": "execute_result"
    }
   ],
   "source": [
    "(amrith_data_orig_idxs==-1).sum()"
   ]
  },
  {
   "cell_type": "code",
   "execution_count": 122,
   "metadata": {},
   "outputs": [],
   "source": [
    "orig_data_subsample_idxs = np.where((unmemorized_acc_cummax_all<=threshold2))[0]\n"
   ]
  },
  {
   "cell_type": "code",
   "execution_count": 123,
   "metadata": {},
   "outputs": [
    {
     "data": {
      "text/plain": [
       "array([   4,    6,   10, ..., 3501, 3502, 3503])"
      ]
     },
     "execution_count": 123,
     "metadata": {},
     "output_type": "execute_result"
    }
   ],
   "source": [
    "orig_data_subsample_idxs"
   ]
  },
  {
   "cell_type": "code",
   "execution_count": 124,
   "metadata": {},
   "outputs": [
    {
     "name": "stdout",
     "output_type": "stream",
     "text": [
      "subsample ratio:  0.5927511415525114\n"
     ]
    }
   ],
   "source": [
    "print(\"subsample ratio: \", len(orig_data_subsample_idxs)/len(unmemorized_acc_cummax_all))\n",
    "amrith_data_subsample_idxs_new = np.where([elem in orig_data_subsample_idxs for elem in amrith_data_orig_idxs])[0]\n"
   ]
  },
  {
   "cell_type": "code",
   "execution_count": 127,
   "metadata": {},
   "outputs": [
    {
     "data": {
      "text/plain": [
       "array([], dtype=int64)"
      ]
     },
     "execution_count": 127,
     "metadata": {},
     "output_type": "execute_result"
    }
   ],
   "source": [
    "np.intersect1d(amrith_data_subsample_idxs_prev, amrith_data_subsample_idxs_new)"
   ]
  },
  {
   "cell_type": "code",
   "execution_count": 128,
   "metadata": {},
   "outputs": [
    {
     "data": {
      "text/plain": [
       "6.212328767123288"
      ]
     },
     "execution_count": 128,
     "metadata": {},
     "output_type": "execute_result"
    }
   ],
   "source": [
    "len(amrith_data_subsample_idxs_new)/3504"
   ]
  },
  {
   "cell_type": "code",
   "execution_count": 114,
   "metadata": {},
   "outputs": [
    {
     "data": {
      "text/plain": [
       "0.31061643835616437"
      ]
     },
     "execution_count": 114,
     "metadata": {},
     "output_type": "execute_result"
    }
   ],
   "source": [
    "len(amrith_data_subsample_idxs_new)/len(amrith_data_orig_idxs)"
   ]
  },
  {
   "cell_type": "code",
   "execution_count": 115,
   "metadata": {},
   "outputs": [
    {
     "data": {
      "text/plain": [
       "21768"
      ]
     },
     "execution_count": 115,
     "metadata": {},
     "output_type": "execute_result"
    }
   ],
   "source": [
    "len(amrith_data_subsample_idxs_new)"
   ]
  },
  {
   "cell_type": "code",
   "execution_count": 118,
   "metadata": {},
   "outputs": [
    {
     "data": {
      "text/plain": [
       "14016"
      ]
     },
     "execution_count": 118,
     "metadata": {},
     "output_type": "execute_result"
    }
   ],
   "source": [
    "3504*4"
   ]
  },
  {
   "cell_type": "code",
   "execution_count": 98,
   "metadata": {},
   "outputs": [],
   "source": [
    "amrith_data_subsample_idxs_new = np.random.choice(amrith_data_subsample_idxs_new, int(len(train_questions)*new_num_copies), replace=False)\n",
    "\n",
    "amrith_data_subsample_idxs = np.concatenate([amrith_data_subsample_idxs_prev, amrith_data_subsample_idxs_new]).astype(int)\n",
    "assert(len(set(amrith_data_subsample_idxs))==int(len(train_questions)*new_num_copies)+len(amrith_data_subsample_idxs_prev))"
   ]
  },
  {
   "cell_type": "code",
   "execution_count": 99,
   "metadata": {},
   "outputs": [
    {
     "data": {
      "text/plain": [
       "3504"
      ]
     },
     "execution_count": 99,
     "metadata": {},
     "output_type": "execute_result"
    }
   ],
   "source": [
    "len(train_questions)"
   ]
  },
  {
   "cell_type": "code",
   "execution_count": 101,
   "metadata": {},
   "outputs": [
    {
     "data": {
      "text/plain": [
       "array([1460, 2794,  980, ..., 1643, 3123, 2291])"
      ]
     },
     "execution_count": 101,
     "metadata": {},
     "output_type": "execute_result"
    }
   ],
   "source": [
    "amrith_data_subsample_idxs%3504"
   ]
  },
  {
   "cell_type": "code",
   "execution_count": 102,
   "metadata": {},
   "outputs": [
    {
     "data": {
      "text/plain": [
       "(array([2194., 1358., 1076.,  993., 1026., 1026., 1059., 1261.,  233.,\n",
       "         178.,  108.]),\n",
       " array([-0.05,  0.05,  0.15,  0.25,  0.35,  0.45,  0.55,  0.65,  0.75,\n",
       "         0.85,  0.95,  1.05]),\n",
       " <BarContainer object of 11 artists>)"
      ]
     },
     "execution_count": 102,
     "metadata": {},
     "output_type": "execute_result"
    },
    {
     "data": {
      "image/png": "[encoded data removed]",
      "text/plain": [
       "<Figure size 640x480 with 1 Axes>"
      ]
     },
     "metadata": {},
     "output_type": "display_data"
    }
   ],
   "source": [
    "plt.hist(unmemorized_acc_cummax_all[amrith_data_subsample_idxs%3504], np.arange(0, 1.2, 0.1)-0.05)"
   ]
  },
  {
   "cell_type": "code",
   "execution_count": null,
   "metadata": {},
   "outputs": [],
   "source": []
  }
 ],
 "metadata": {
  "kernelspec": {
   "display_name": "Python 3.9.19 ('trlx2')",
   "language": "python",
   "name": "python3"
  },
  "language_info": {
   "codemirror_mode": {
    "name": "ipython",
    "version": 3
   },
   "file_extension": ".py",
   "mimetype": "text/x-python",
   "name": "python",
   "nbconvert_exporter": "python",
   "pygments_lexer": "ipython3",
   "version": "3.9.19"
  },
  "vscode": {
   "interpreter": {
    "hash": "880a2784cc7455d0838240b106af40f2a25d56f4b3fd04cbca1f9dd75c2a460d"
   }
  }
 },
 "nbformat": 4,
 "nbformat_minor": 2
}
