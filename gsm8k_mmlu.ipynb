{
 "cells": [
  {
   "cell_type": "code",
   "execution_count": 2,
   "metadata": {},
   "outputs": [],
   "source": [
    "import numpy as np \n",
    "import matplotlib.pyplot as plt"
   ]
  },
  {
   "cell_type": "code",
   "execution_count": 6,
   "metadata": {},
   "outputs": [],
   "source": [
    "from datasets import load_dataset\n",
    "topics = ['abstract_algebra', 'anatomy', 'astronomy', 'business_ethics', 'clinical_knowledge', 'college_biology', 'college_chemistry', 'college_computer_science', 'college_mathematics', 'college_medicine', 'college_physics', 'computer_security', 'conceptual_physics', 'econometrics', 'electrical_engineering', 'elementary_mathematics', 'formal_logic', 'global_facts', 'high_school_biology', 'high_school_chemistry', 'high_school_computer_science', 'high_school_european_history', 'high_school_geography', 'high_school_government_and_politics', 'high_school_macroeconomics', 'high_school_mathematics', 'high_school_microeconomics', 'high_school_physics', 'high_school_psychology', 'high_school_statistics', 'high_school_us_history', 'high_school_world_history', 'human_aging', 'human_sexuality', 'international_law', 'jurisprudence', 'logical_fallacies', 'machine_learning', 'management', 'marketing', 'medical_genetics', 'miscellaneous', 'moral_disputes', 'moral_scenarios', 'nutrition', 'philosophy', 'prehistory', 'professional_accounting', 'professional_law', 'professional_medicine', 'professional_psychology', 'public_relations', 'security_studies', 'sociology', 'us_foreign_policy', 'virology', 'world_religions']\n",
    "\n",
    "split = \"test\"\n",
    "\n",
    "test_questions = []\n",
    "test_choices = []\n",
    "test_answers = []\n",
    "test_subjects = []\n",
    "dev_dict = {}\n",
    "for topic in topics:\n",
    "    dataset = load_dataset(\"tasksource/mmlu\", topic)\n",
    "    test_questions.append(dataset[split][\"question\"])\n",
    "    test_choices.append(dataset[split][\"choices\"])\n",
    "    test_answers.append(dataset[split][\"answer\"])\n",
    "    test_subjects.append([topic for _ in range(len(dataset[split][\"question\"]))])\n",
    "    dev_dict[topic] = dataset[\"dev\"]\n",
    "test_questions = np.concatenate(test_questions)\n",
    "test_choices = np.concatenate(test_choices)\n",
    "test_answers = np.concatenate(test_answers)\n",
    "test_subjects = np.concatenate(test_subjects)"
   ]
  },
  {
   "cell_type": "code",
   "execution_count": 7,
   "metadata": {},
   "outputs": [
    {
     "data": {
      "text/plain": [
       "array([1, 2, 3, ..., 1, 1, 0])"
      ]
     },
     "execution_count": 7,
     "metadata": {},
     "output_type": "execute_result"
    }
   ],
   "source": [
    "test_answers"
   ]
  },
  {
   "cell_type": "code",
   "execution_count": 15,
   "metadata": {},
   "outputs": [
    {
     "name": "stdout",
     "output_type": "stream",
     "text": [
      "0.31923913484693567\n",
      "0.2670565869187405\n"
     ]
    }
   ],
   "source": [
    "model_name = \"gsm8k_orig_6epochs_shuffle1_lr5e-05_bs128\"\n",
    "model_ckpt = \"348\"\n",
    "\n",
    "prob_dicts_all = np.load(f\"ckpts/{model_name}/checkpoint-{model_ckpt}/mmlu_prob_dicts.npy\", allow_pickle=True)\n",
    "\n",
    "normalized_probs_all = get_normalized_probs_all(prob_dicts_all)\n",
    "\n",
    "print(normalized_probs_all.mean())\n",
    "print(normalized_probs_all.std())"
   ]
  },
  {
   "cell_type": "code",
   "execution_count": 22,
   "metadata": {},
   "outputs": [
    {
     "name": "stdout",
     "output_type": "stream",
     "text": [
      "0.390275703255489\n",
      "0.29271617673897793\n"
     ]
    }
   ],
   "source": [
    "model_name = \"gsm8k_orig_24epochs_eighth_lr5e-05_bs128\"\n",
    "model_ckpt = \"168\"\n",
    "\n",
    "prob_dicts_all = np.load(f\"ckpts/{model_name}/checkpoint-{model_ckpt}/mmlu_prob_dicts.npy\", allow_pickle=True)\n",
    "\n",
    "normalized_probs_all = get_normalized_probs_all(prob_dicts_all)\n",
    "\n",
    "print(normalized_probs_all.mean())\n",
    "print(normalized_probs_all.std())"
   ]
  },
  {
   "cell_type": "code",
   "execution_count": 18,
   "metadata": {},
   "outputs": [
    {
     "name": "stdout",
     "output_type": "stream",
     "text": [
      "0.579747696841967\n",
      "0.34826252424696585\n"
     ]
    }
   ],
   "source": [
    "model_name = \"gsm8k_orig_6epochs_shuffle1_lr5e-07_bs128\"\n",
    "model_ckpt = \"348\"\n",
    "\n",
    "prob_dicts_all = np.load(f\"ckpts/{model_name}/checkpoint-{model_ckpt}/mmlu_prob_dicts.npy\", allow_pickle=True)\n",
    "\n",
    "normalized_probs_all = get_normalized_probs_all(prob_dicts_all)\n",
    "\n",
    "print(normalized_probs_all.mean())\n",
    "print(normalized_probs_all.std())"
   ]
  },
  {
   "cell_type": "code",
   "execution_count": 26,
   "metadata": {},
   "outputs": [
    {
     "name": "stdout",
     "output_type": "stream",
     "text": [
      "0.40106458521023314\n",
      "0.2809330588970192\n"
     ]
    }
   ],
   "source": [
    "model_name = \"gsm8k_orig_1epochs_shuffle1_lr5e-05_bs128\"\n",
    "model_ckpt = \"58\"\n",
    "\n",
    "prob_dicts_all = np.load(f\"ckpts/{model_name}/checkpoint-{model_ckpt}/mmlu_prob_dicts.npy\", allow_pickle=True)\n",
    "\n",
    "normalized_probs_all = get_normalized_probs_all(prob_dicts_all)\n",
    "\n",
    "print(normalized_probs_all.mean())\n",
    "print(normalized_probs_all.std())"
   ]
  },
  {
   "cell_type": "code",
   "execution_count": 31,
   "metadata": {},
   "outputs": [
    {
     "name": "stdout",
     "output_type": "stream",
     "text": [
      "0.32558992680854015\n",
      "0.2367038185386717\n"
     ]
    }
   ],
   "source": [
    "model_name = \"gsm8k_orig_6epochs_shuffle1_lr5e-05_bs128\"\n",
    "model_ckpt = \"175\"\n",
    "\n",
    "prob_dicts_all = np.load(f\"ckpts/{model_name}/checkpoint-{model_ckpt}/mmlu_prob_dicts.npy\", allow_pickle=True)\n",
    "\n",
    "normalized_probs_all = get_normalized_probs_all(prob_dicts_all)\n",
    "\n",
    "print(normalized_probs_all.mean())\n",
    "print(normalized_probs_all.std())"
   ]
  },
  {
   "cell_type": "code",
   "execution_count": 17,
   "metadata": {},
   "outputs": [],
   "source": [
    "def get_normalized_probs_all(prob_dicts_all):\n",
    "    normalized_probs_all = []\n",
    "    for i, prob_dict in enumerate(prob_dicts_all):\n",
    "        denominator = 0 \n",
    "        numerator = 0\n",
    "        for j, choice in enumerate([\" A\", \" B\", \" C\", \" D\"]):\n",
    "            if choice in prob_dict.keys():\n",
    "                denominator += prob_dict[choice]\n",
    "                if test_answers[i] == j:\n",
    "                    numerator = prob_dict[choice]\n",
    "        \n",
    "        if denominator == 0:\n",
    "            normalized_probs_all.append(0)\n",
    "        else:\n",
    "            normalized_probs_all.append(numerator/denominator)\n",
    "    return np.array(normalized_probs_all)\n"
   ]
  },
  {
   "cell_type": "code",
   "execution_count": 12,
   "metadata": {},
   "outputs": [
    {
     "data": {
      "text/plain": [
       "0.31923913484693567"
      ]
     },
     "execution_count": 12,
     "metadata": {},
     "output_type": "execute_result"
    }
   ],
   "source": [
    "np.mean(normalized_probs_all)"
   ]
  },
  {
   "cell_type": "code",
   "execution_count": 37,
   "metadata": {},
   "outputs": [
    {
     "data": {
      "text/plain": [
       "0.5265504169825626"
      ]
     },
     "execution_count": 37,
     "metadata": {},
     "output_type": "execute_result"
    }
   ],
   "source": [
    "(np.load(\"ckpts/gsm8k_orig_6epochs_unmemorized_lr2e-05_bs128/checkpoint-288/test_answer_types50_seed2.npy\")==0).mean()"
   ]
  },
  {
   "cell_type": "code",
   "execution_count": 38,
   "metadata": {},
   "outputs": [
    {
     "data": {
      "text/plain": [
       "0.5390750568612586"
      ]
     },
     "execution_count": 38,
     "metadata": {},
     "output_type": "execute_result"
    }
   ],
   "source": [
    "(np.load(\"ckpts/gsm8k_orig_6epochs_full_lr2e-05_bs128/checkpoint-348/test_answer_types50_seed2.npy\")==0).mean()"
   ]
  },
  {
   "cell_type": "code",
   "execution_count": null,
   "metadata": {},
   "outputs": [],
   "source": []
  }
 ],
 "metadata": {
  "kernelspec": {
   "display_name": "trlx2",
   "language": "python",
   "name": "python3"
  },
  "language_info": {
   "codemirror_mode": {
    "name": "ipython",
    "version": 3
   },
   "file_extension": ".py",
   "mimetype": "text/x-python",
   "name": "python",
   "nbconvert_exporter": "python",
   "pygments_lexer": "ipython3",
   "version": "3.9.19"
  }
 },
 "nbformat": 4,
 "nbformat_minor": 2
}
